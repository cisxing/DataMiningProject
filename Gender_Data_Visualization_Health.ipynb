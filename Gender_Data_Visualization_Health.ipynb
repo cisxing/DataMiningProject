{
 "metadata": {
  "name": "",
  "signature": "sha256:d643f33cfe189b1c4cd2522063341597643ea5114f81127ba15be5ebc7ad8740"
 },
 "nbformat": 3,
 "nbformat_minor": 0,
 "worksheets": [
  {
   "cells": [
    {
     "cell_type": "code",
     "collapsed": false,
     "input": [
      "#load health data\n",
      "import sys\n",
      "import numpy as np\n",
      "health_data = np.loadtxt(\"C:/Users/Sarah Read/Desktop/Data_Mining/Gender_Data/health_data_edit.csv\", delimiter = ',', dtype=\"string\")"
     ],
     "language": "python",
     "metadata": {},
     "outputs": [
      {
       "ename": "IOError",
       "evalue": "[Errno 2] No such file or directory: 'C:/Users/Sarah Read/Desktop/Data_Mining/Gender_Data/health_data_edit.csv'",
       "output_type": "pyerr",
       "traceback": [
        "\u001b[1;31m---------------------------------------------------------------------------\u001b[0m\n\u001b[1;31mIOError\u001b[0m                                   Traceback (most recent call last)",
        "\u001b[1;32m<ipython-input-2-43183224a987>\u001b[0m in \u001b[0;36m<module>\u001b[1;34m()\u001b[0m\n\u001b[0;32m      2\u001b[0m \u001b[1;32mimport\u001b[0m \u001b[0msys\u001b[0m\u001b[1;33m\u001b[0m\u001b[0m\n\u001b[0;32m      3\u001b[0m \u001b[1;32mimport\u001b[0m \u001b[0mnumpy\u001b[0m \u001b[1;32mas\u001b[0m \u001b[0mnp\u001b[0m\u001b[1;33m\u001b[0m\u001b[0m\n\u001b[1;32m----> 4\u001b[1;33m \u001b[0mhealth_data\u001b[0m \u001b[1;33m=\u001b[0m \u001b[0mnp\u001b[0m\u001b[1;33m.\u001b[0m\u001b[0mloadtxt\u001b[0m\u001b[1;33m(\u001b[0m\u001b[1;34m\"C:/Users/Sarah Read/Desktop/Data_Mining/Gender_Data/health_data_edit.csv\"\u001b[0m\u001b[1;33m,\u001b[0m \u001b[0mdelimiter\u001b[0m \u001b[1;33m=\u001b[0m \u001b[1;34m','\u001b[0m\u001b[1;33m,\u001b[0m \u001b[0mdtype\u001b[0m\u001b[1;33m=\u001b[0m\u001b[1;34m\"string\"\u001b[0m\u001b[1;33m)\u001b[0m\u001b[1;33m\u001b[0m\u001b[0m\n\u001b[0m",
        "\u001b[1;32mC:\\Users\\Sarah Read\\Anaconda\\lib\\site-packages\\numpy\\lib\\npyio.pyc\u001b[0m in \u001b[0;36mloadtxt\u001b[1;34m(fname, dtype, comments, delimiter, converters, skiprows, usecols, unpack, ndmin)\u001b[0m\n\u001b[0;32m    732\u001b[0m                 \u001b[0mfh\u001b[0m \u001b[1;33m=\u001b[0m \u001b[0miter\u001b[0m\u001b[1;33m(\u001b[0m\u001b[0mbz2\u001b[0m\u001b[1;33m.\u001b[0m\u001b[0mBZ2File\u001b[0m\u001b[1;33m(\u001b[0m\u001b[0mfname\u001b[0m\u001b[1;33m)\u001b[0m\u001b[1;33m)\u001b[0m\u001b[1;33m\u001b[0m\u001b[0m\n\u001b[0;32m    733\u001b[0m             \u001b[1;32melif\u001b[0m \u001b[0msys\u001b[0m\u001b[1;33m.\u001b[0m\u001b[0mversion_info\u001b[0m\u001b[1;33m[\u001b[0m\u001b[1;36m0\u001b[0m\u001b[1;33m]\u001b[0m \u001b[1;33m==\u001b[0m \u001b[1;36m2\u001b[0m\u001b[1;33m:\u001b[0m\u001b[1;33m\u001b[0m\u001b[0m\n\u001b[1;32m--> 734\u001b[1;33m                 \u001b[0mfh\u001b[0m \u001b[1;33m=\u001b[0m \u001b[0miter\u001b[0m\u001b[1;33m(\u001b[0m\u001b[0mopen\u001b[0m\u001b[1;33m(\u001b[0m\u001b[0mfname\u001b[0m\u001b[1;33m,\u001b[0m \u001b[1;34m'U'\u001b[0m\u001b[1;33m)\u001b[0m\u001b[1;33m)\u001b[0m\u001b[1;33m\u001b[0m\u001b[0m\n\u001b[0m\u001b[0;32m    735\u001b[0m             \u001b[1;32melse\u001b[0m\u001b[1;33m:\u001b[0m\u001b[1;33m\u001b[0m\u001b[0m\n\u001b[0;32m    736\u001b[0m                 \u001b[0mfh\u001b[0m \u001b[1;33m=\u001b[0m \u001b[0miter\u001b[0m\u001b[1;33m(\u001b[0m\u001b[0mopen\u001b[0m\u001b[1;33m(\u001b[0m\u001b[0mfname\u001b[0m\u001b[1;33m)\u001b[0m\u001b[1;33m)\u001b[0m\u001b[1;33m\u001b[0m\u001b[0m\n",
        "\u001b[1;31mIOError\u001b[0m: [Errno 2] No such file or directory: 'C:/Users/Sarah Read/Desktop/Data_Mining/Gender_Data/health_data_edit.csv'"
       ]
      }
     ],
     "prompt_number": 2
    },
    {
     "cell_type": "code",
     "collapsed": false,
     "input": [
      "health_data[1:2]"
     ],
     "language": "python",
     "metadata": {},
     "outputs": []
    },
    {
     "cell_type": "code",
     "collapsed": false,
     "input": [
      "#get rid of first columm since it is unnecessary\n",
      "health_data_sub = health_data[1:221,1:23]\n",
      "health_data_sub[0:1]"
     ],
     "language": "python",
     "metadata": {},
     "outputs": []
    },
    {
     "cell_type": "code",
     "collapsed": false,
     "input": [
      "health_data_sub[219:220]"
     ],
     "language": "python",
     "metadata": {},
     "outputs": []
    },
    {
     "cell_type": "code",
     "collapsed": false,
     "input": [
      "health_data_life = health_data_sub[:,(2,3)]\n",
      "health_data_life"
     ],
     "language": "python",
     "metadata": {},
     "outputs": []
    },
    {
     "cell_type": "code",
     "collapsed": false,
     "input": [
      "health_data_life = health_data_life.astype(double)"
     ],
     "language": "python",
     "metadata": {},
     "outputs": []
    },
    {
     "cell_type": "code",
     "collapsed": false,
     "input": [
      "import matplotlib.pyplot as plt\n",
      "\n",
      "plt.scatter(health_data_life[:,0], health_data_life[:,1])"
     ],
     "language": "python",
     "metadata": {},
     "outputs": []
    },
    {
     "cell_type": "code",
     "collapsed": false,
     "input": [
      "#From this chart we can see that women (on x axis) have a higher life\n",
      "#expectancy then men in most countries, however there are some where\n",
      "#that is not the case. The difference also does not seem to be that large"
     ],
     "language": "python",
     "metadata": {},
     "outputs": []
    },
    {
     "cell_type": "code",
     "collapsed": false,
     "input": [
      "m, b =  np.polyfit(health_data_life[:,0], health_data_life[:,1], 1)"
     ],
     "language": "python",
     "metadata": {},
     "outputs": []
    },
    {
     "cell_type": "code",
     "collapsed": false,
     "input": [
      "plt.plot(health_data_life[:,0], m*health_data_life[:,0]+b, '-', color='black')\n",
      "plt.scatter(health_data_life[:,0], health_data_life[:,1])\n"
     ],
     "language": "python",
     "metadata": {},
     "outputs": []
    },
    {
     "cell_type": "code",
     "collapsed": false,
     "input": [
      "#now scatter plot is plotted with the line of best fit. Most points fit very \n",
      "#nicely with the trend"
     ],
     "language": "python",
     "metadata": {},
     "outputs": []
    },
    {
     "cell_type": "code",
     "collapsed": false,
     "input": [
      "health_data_hiv = health_data_sub[:,(2,14)]"
     ],
     "language": "python",
     "metadata": {},
     "outputs": []
    },
    {
     "cell_type": "code",
     "collapsed": false,
     "input": [
      "health_sub_hiv_wo = [None]*111\n",
      "health_sub_hiv_rate = [None]*111\n",
      "index=0\n",
      "for i in range(len(health_data_hiv)):\n",
      "    if(health_data_hiv[i,1] != 'NA' and health_data_hiv[i,1] != '\\x85'):\n",
      "        health_sub_hiv_wo[index]=health_data_hiv[i,0].astype(double)\n",
      "        health_sub_hiv_rate[index]=health_data_hiv[i,1].astype(double)\n",
      "        index=index+1"
     ],
     "language": "python",
     "metadata": {},
     "outputs": []
    },
    {
     "cell_type": "code",
     "collapsed": false,
     "input": [
      "#m, b =  np.polyfit(health_sub_hiv_rate, health_sub_hiv_wo, 1)\n",
      "#plt.plot(health_sub_hiv_rate, m*health_sub_hiv_rate+b, '-', color='black')\n",
      "plt.scatter(health_sub_hiv_rate, health_sub_hiv_wo)"
     ],
     "language": "python",
     "metadata": {},
     "outputs": []
    },
    {
     "cell_type": "code",
     "collapsed": false,
     "input": [
      "#As the rate of HIV increases, life expectancy decreases, as we expect"
     ],
     "language": "python",
     "metadata": {},
     "outputs": []
    },
    {
     "cell_type": "code",
     "collapsed": false,
     "input": [
      "health_region = np.loadtxt(\"C:/Users/Sarah Read/Desktop/Data_Mining/Gender_Data/health_data_labels.csv\", delimiter = ',', dtype=\"string\")"
     ],
     "language": "python",
     "metadata": {},
     "outputs": [],
     "prompt_number": 2
    },
    {
     "cell_type": "code",
     "collapsed": false,
     "input": [
      "health_data = health_region[1:113,2:14]"
     ],
     "language": "python",
     "metadata": {},
     "outputs": [],
     "prompt_number": 3
    },
    {
     "cell_type": "code",
     "collapsed": false,
     "input": [
      "#remove quotation marks from data\n",
      "for i in range(len(health_data)):\n",
      "   for j in range(size(health_data[0:1])):\n",
      "        health_data[i-1,j-1] = health_data[i-1,j-1].lstrip('\"').rstrip('\"')"
     ],
     "language": "python",
     "metadata": {},
     "outputs": [],
     "prompt_number": 4
    },
    {
     "cell_type": "code",
     "collapsed": false,
     "input": [
      "health_data[1:2]"
     ],
     "language": "python",
     "metadata": {},
     "outputs": [
      {
       "metadata": {},
       "output_type": "pyout",
       "prompt_number": 5,
       "text": [
        "array([['67', '65', '18', '17', '260', '66', '86', '28.1', '3.2', '27',\n",
        "        '19', 'Asia']], \n",
        "      dtype='|S41')"
       ]
      }
     ],
     "prompt_number": 5
    },
    {
     "cell_type": "code",
     "collapsed": false,
     "input": [
      "curRegion='Asia'\n",
      "allInCategory=0\n",
      "totalRegions = 0\n",
      "averageValueArr = [[0 for x in range(11)] for x in range(13)]\n",
      "allRegions = [None]*13"
     ],
     "language": "python",
     "metadata": {},
     "outputs": [],
     "prompt_number": 6
    },
    {
     "cell_type": "code",
     "collapsed": false,
     "input": [
      "for i in range(len(health_data)):\n",
      "    if(curRegion != health_data[i,11]):\n",
      "        allRegions[totalRegions] = curRegion\n",
      "        curRegion = health_data[i,11]\n",
      "        for y in range(0,11):\n",
      "            averageValueArr[totalRegions][y] = averageValueArr[totalRegions][y]/allInCategory\n",
      "        totalRegions = totalRegions+1\n",
      "        allInCategory = 0\n",
      "    for j in range(0,11):\n",
      "        averageValueArr[totalRegions][j] = averageValueArr[totalRegions][j] + health_data[i,j].astype(double)\n",
      "    allInCategory=allInCategory+1\n",
      "for y in range(0,11):\n",
      "    averageValueArr[totalRegions][y] = averageValueArr[totalRegions][y]/allInCategory\n",
      "allRegions[totalRegions] = curRegion"
     ],
     "language": "python",
     "metadata": {},
     "outputs": [],
     "prompt_number": 7
    },
    {
     "cell_type": "code",
     "collapsed": false,
     "input": [
      "allRegions"
     ],
     "language": "python",
     "metadata": {},
     "outputs": [
      {
       "metadata": {},
       "output_type": "pyout",
       "prompt_number": 8,
       "text": [
        "['Asia',\n",
        " 'Central America',\n",
        " 'Eastern Africa',\n",
        " 'Europe',\n",
        " 'Middle Africa',\n",
        " 'Middle East',\n",
        " 'North America',\n",
        " 'Northern Africa',\n",
        " 'Oceania',\n",
        " 'South America',\n",
        " 'Southern Africa',\n",
        " 'The Caribbean',\n",
        " 'Western Africa']"
       ]
      }
     ],
     "prompt_number": 8
    },
    {
     "cell_type": "code",
     "collapsed": false,
     "input": [
      "import matplotlib.pyplot as plt\n",
      "fig = plt.figure()\n",
      "N=1\n",
      "width = 0.35\n",
      "ax = fig.add_subplot(111)\n",
      "ind = np.arange(N)   \n",
      "\n",
      "#Asia\n",
      "rects1= ax.bar(ind, averageValueArr[0][0], width, color='black')\n",
      "\n",
      "#Central America\n",
      "rects2= ax.bar(ind+width, averageValueArr[1][0], width, color='red')\n",
      "\n",
      "#Eastern Africa\n",
      "rects3= ax.bar(ind+2*width, averageValueArr[2][0], width, color='blue')\n",
      "\n",
      "#Europe\n",
      "rects4= ax.bar(ind+3*width, averageValueArr[3][0], width, color='purple')\n",
      "\n",
      "#Middle Africa\n",
      "rects5= ax.bar(ind+4*width, averageValueArr[4][0], width, color='orange')\n",
      "\n",
      "#Middle East\n",
      "rects6= ax.bar(ind+5*width, averageValueArr[5][0], width, color='green')\n",
      "\n",
      "#North America\n",
      "rects7= ax.bar(ind+6*width, averageValueArr[6][0], width, color='yellow')\n",
      "\n",
      "#Northern Africa\n",
      "rects8= ax.bar(ind+7*width, averageValueArr[7][0], width, color='gray')\n",
      "\n",
      "#Oceania\n",
      "rects9= ax.bar(ind+8*width, averageValueArr[8][0], width, color='black')\n",
      "\n",
      "#South America\n",
      "rects10= ax.bar(ind+9*width, averageValueArr[9][0], width, color='red')\n",
      "\n",
      "#Southern Africa\n",
      "rects11= ax.bar(ind+10*width, averageValueArr[10][0], width, color='blue')\n",
      "\n",
      "#The Caribbean\n",
      "rects12= ax.bar(ind+11*width, averageValueArr[11][0], width, color='purple')\n",
      "\n",
      "#Western Africa\n",
      "rects13= ax.bar(ind+12*width, averageValueArr[12][0], width, color='orange')\n",
      "\n",
      "#ax.set_xticklabels(allRegions)\n",
      "ax.set_title('Average Female Life Expectancy by Region')"
     ],
     "language": "python",
     "metadata": {},
     "outputs": [
      {
       "metadata": {},
       "output_type": "pyout",
       "prompt_number": 9,
       "text": [
        "<matplotlib.text.Text at 0xa1105f8>"
       ]
      },
      {
       "metadata": {},
       "output_type": "display_data",
       "png": "[encoded data removed]",
       "text": [
        "<matplotlib.figure.Figure at 0xa04df98>"
       ]
      }
     ],
     "prompt_number": 9
    },
    {
     "cell_type": "code",
     "collapsed": false,
     "input": [
      "import matplotlib.pyplot as plt\n",
      "fig = plt.figure()\n",
      "N=1\n",
      "width = 0.35\n",
      "ax = fig.add_subplot(111)\n",
      "ind = np.arange(N)   \n",
      "\n",
      "#Asia\n",
      "rects1= ax.bar(ind, averageValueArr[0][1], width, color='black')\n",
      "\n",
      "#Central America\n",
      "rects2= ax.bar(ind+width, averageValueArr[1][1], width, color='red')\n",
      "\n",
      "#Eastern Africa\n",
      "rects3= ax.bar(ind+2*width, averageValueArr[2][1], width, color='blue')\n",
      "\n",
      "#Europe\n",
      "rects4= ax.bar(ind+3*width, averageValueArr[3][1], width, color='purple')\n",
      "\n",
      "#Middle Africa\n",
      "rects5= ax.bar(ind+4*width, averageValueArr[4][1], width, color='orange')\n",
      "\n",
      "#Middle East\n",
      "rects6= ax.bar(ind+5*width, averageValueArr[5][1], width, color='green')\n",
      "\n",
      "#North America\n",
      "rects7= ax.bar(ind+6*width, averageValueArr[6][1], width, color='yellow')\n",
      "\n",
      "#Northern Africa\n",
      "rects8= ax.bar(ind+7*width, averageValueArr[7][1], width, color='gray')\n",
      "\n",
      "#Oceania\n",
      "rects9= ax.bar(ind+8*width, averageValueArr[8][1], width, color='black')\n",
      "\n",
      "#South America\n",
      "rects10= ax.bar(ind+9*width, averageValueArr[9][1], width, color='red')\n",
      "\n",
      "#Southern Africa\n",
      "rects11= ax.bar(ind+10*width, averageValueArr[10][1], width, color='blue')\n",
      "\n",
      "#The Caribbean\n",
      "rects12= ax.bar(ind+11*width, averageValueArr[11][1], width, color='purple')\n",
      "\n",
      "#Western Africa\n",
      "rects13= ax.bar(ind+12*width, averageValueArr[12][1], width, color='orange')\n",
      "\n",
      "#ax.set_xticklabels(allRegions)\n",
      "ax.set_title('Average Male Life Expectancy by Region')"
     ],
     "language": "python",
     "metadata": {},
     "outputs": [
      {
       "metadata": {},
       "output_type": "pyout",
       "prompt_number": 10,
       "text": [
        "<matplotlib.text.Text at 0xa434748>"
       ]
      },
      {
       "metadata": {},
       "output_type": "display_data",
       "png": "[encoded data removed]",
       "text": [
        "<matplotlib.figure.Figure at 0xa1bd358>"
       ]
      }
     ],
     "prompt_number": 10
    },
    {
     "cell_type": "code",
     "collapsed": false,
     "input": [
      "import matplotlib.pyplot as plt\n",
      "fig = plt.figure()\n",
      "N=1\n",
      "width = 0.35\n",
      "ax = fig.add_subplot(111)\n",
      "ind = np.arange(N)   \n",
      "\n",
      "#Asia\n",
      "rects1= ax.bar(ind, averageValueArr[0][4], width, color='black')\n",
      "\n",
      "#Central America\n",
      "rects2= ax.bar(ind+width, averageValueArr[1][4], width, color='red')\n",
      "\n",
      "#Eastern Africa\n",
      "rects3= ax.bar(ind+2*width, averageValueArr[2][4], width, color='blue')\n",
      "\n",
      "#Europe\n",
      "rects4= ax.bar(ind+3*width, averageValueArr[3][4], width, color='purple')\n",
      "\n",
      "#Middle Africa\n",
      "rects5= ax.bar(ind+4*width, averageValueArr[4][4], width, color='orange')\n",
      "\n",
      "#Middle East\n",
      "rects6= ax.bar(ind+5*width, averageValueArr[5][4], width, color='green')\n",
      "\n",
      "#North America\n",
      "rects7= ax.bar(ind+6*width, averageValueArr[6][4], width, color='yellow')\n",
      "\n",
      "#Northern Africa\n",
      "rects8= ax.bar(ind+7*width, averageValueArr[7][4], width, color='gray')\n",
      "\n",
      "#Oceania\n",
      "rects9= ax.bar(ind+8*width, averageValueArr[8][4], width, color='black')\n",
      "\n",
      "#South America\n",
      "rects10= ax.bar(ind+9*width, averageValueArr[9][4], width, color='red')\n",
      "\n",
      "#Southern Africa\n",
      "rects11= ax.bar(ind+10*width, averageValueArr[10][4], width, color='blue')\n",
      "\n",
      "#The Caribbean\n",
      "rects12= ax.bar(ind+11*width, averageValueArr[11][4], width, color='purple')\n",
      "\n",
      "#Western Africa\n",
      "rects13= ax.bar(ind+12*width, averageValueArr[12][4], width, color='orange')\n",
      "\n",
      "#ax.set_xticklabels(allRegions)\n",
      "ax.set_title('Average Maternal Mortality Ratio by Region')"
     ],
     "language": "python",
     "metadata": {},
     "outputs": [
      {
       "metadata": {},
       "output_type": "pyout",
       "prompt_number": 11,
       "text": [
        "<matplotlib.text.Text at 0xa593da0>"
       ]
      },
      {
       "metadata": {},
       "output_type": "display_data",
       "png": "[encoded data removed]",
       "text": [
        "<matplotlib.figure.Figure at 0xa1bd978>"
       ]
      }
     ],
     "prompt_number": 11
    },
    {
     "cell_type": "code",
     "collapsed": false,
     "input": [
      "import matplotlib.pyplot as plt\n",
      "fig = plt.figure()\n",
      "N=1\n",
      "width = 0.35\n",
      "ax = fig.add_subplot(111)\n",
      "ind = np.arange(N)   \n",
      "\n",
      "#Asia\n",
      "rects1= ax.bar(ind, averageValueArr[0][5], width, color='black')\n",
      "\n",
      "#Central America\n",
      "rects2= ax.bar(ind+width, averageValueArr[1][5], width, color='red')\n",
      "\n",
      "#Eastern Africa\n",
      "rects3= ax.bar(ind+2*width, averageValueArr[2][5], width, color='blue')\n",
      "\n",
      "#Europe\n",
      "rects4= ax.bar(ind+3*width, averageValueArr[3][5], width, color='purple')\n",
      "\n",
      "#Middle Africa\n",
      "rects5= ax.bar(ind+4*width, averageValueArr[4][5], width, color='orange')\n",
      "\n",
      "#Middle East\n",
      "rects6= ax.bar(ind+5*width, averageValueArr[5][5], width, color='green')\n",
      "\n",
      "#North America\n",
      "rects7= ax.bar(ind+6*width, averageValueArr[6][5], width, color='yellow')\n",
      "\n",
      "#Northern Africa\n",
      "rects8= ax.bar(ind+7*width, averageValueArr[7][5], width, color='gray')\n",
      "\n",
      "#Oceania\n",
      "rects9= ax.bar(ind+8*width, averageValueArr[8][5], width, color='black')\n",
      "\n",
      "#South America\n",
      "rects10= ax.bar(ind+9*width, averageValueArr[9][5], width, color='red')\n",
      "\n",
      "#Southern Africa\n",
      "rects11= ax.bar(ind+10*width, averageValueArr[10][5], width, color='blue')\n",
      "\n",
      "#The Caribbean\n",
      "rects12= ax.bar(ind+11*width, averageValueArr[11][5], width, color='purple')\n",
      "\n",
      "#Western Africa\n",
      "rects13= ax.bar(ind+12*width, averageValueArr[12][5], width, color='orange')\n",
      "\n",
      "#ax.set_xticklabels(allRegions)\n",
      "ax.set_title('Average Infant Mortality Rate by Region')"
     ],
     "language": "python",
     "metadata": {},
     "outputs": [
      {
       "metadata": {},
       "output_type": "pyout",
       "prompt_number": 12,
       "text": [
        "<matplotlib.text.Text at 0xa8c8f60>"
       ]
      },
      {
       "metadata": {},
       "output_type": "display_data",
       "png": "[encoded data removed]",
       "text": [
        "<matplotlib.figure.Figure at 0xa1bdb38>"
       ]
      }
     ],
     "prompt_number": 12
    },
    {
     "cell_type": "code",
     "collapsed": false,
     "input": [
      "import matplotlib.pyplot as plt\n",
      "fig = plt.figure()\n",
      "N=1\n",
      "width = 0.35\n",
      "ax = fig.add_subplot(111)\n",
      "ind = np.arange(N)   \n",
      "\n",
      "#Asia\n",
      "rects1= ax.bar(ind, averageValueArr[0][9], width, color='black')\n",
      "\n",
      "#Central America\n",
      "rects2= ax.bar(ind+width, averageValueArr[1][9], width, color='red')\n",
      "\n",
      "#Eastern Africa\n",
      "rects3= ax.bar(ind+2*width, averageValueArr[2][9], width, color='blue')\n",
      "\n",
      "#Europe\n",
      "rects4= ax.bar(ind+3*width, averageValueArr[3][9], width, color='purple')\n",
      "\n",
      "#Middle Africa\n",
      "rects5= ax.bar(ind+4*width, averageValueArr[4][9], width, color='orange')\n",
      "\n",
      "#Middle East\n",
      "rects6= ax.bar(ind+5*width, averageValueArr[5][9], width, color='green')\n",
      "\n",
      "#North America\n",
      "rects7= ax.bar(ind+6*width, averageValueArr[6][9], width, color='yellow')\n",
      "\n",
      "#Northern Africa\n",
      "rects8= ax.bar(ind+7*width, averageValueArr[7][9], width, color='gray')\n",
      "\n",
      "#Oceania\n",
      "rects9= ax.bar(ind+8*width, averageValueArr[8][9], width, color='black')\n",
      "\n",
      "#South America\n",
      "rects10= ax.bar(ind+9*width, averageValueArr[9][9], width, color='red')\n",
      "\n",
      "#Southern Africa\n",
      "rects11= ax.bar(ind+10*width, averageValueArr[10][9], width, color='blue')\n",
      "\n",
      "#The Caribbean\n",
      "rects12= ax.bar(ind+11*width, averageValueArr[11][9], width, color='purple')\n",
      "\n",
      "#Western Africa\n",
      "rects13= ax.bar(ind+12*width, averageValueArr[12][9], width, color='orange')\n",
      "\n",
      "#ax.set_xticklabels(allRegions)\n",
      "ax.set_title('Average Contraceptive Prevalence (Any Method) by Region')"
     ],
     "language": "python",
     "metadata": {},
     "outputs": [
      {
       "metadata": {},
       "output_type": "pyout",
       "prompt_number": 13,
       "text": [
        "<matplotlib.text.Text at 0xb7fd630>"
       ]
      },
      {
       "metadata": {},
       "output_type": "display_data",
       "png": "[encoded data removed]",
       "text": [
        "<matplotlib.figure.Figure at 0xa010d68>"
       ]
      }
     ],
     "prompt_number": 13
    },
    {
     "cell_type": "code",
     "collapsed": false,
     "input": [
      "import matplotlib.pyplot as plt\n",
      "fig = plt.figure()\n",
      "N=1\n",
      "width = 0.35\n",
      "ax = fig.add_subplot(111)\n",
      "ind = np.arange(N)   \n",
      "\n",
      "#Asia\n",
      "rects1= ax.bar(ind, averageValueArr[0][10], width, color='black')\n",
      "\n",
      "#Central America\n",
      "rects2= ax.bar(ind+width, averageValueArr[1][10], width, color='red')\n",
      "\n",
      "#Eastern Africa\n",
      "rects3= ax.bar(ind+2*width, averageValueArr[2][10], width, color='blue')\n",
      "\n",
      "#Europe\n",
      "rects4= ax.bar(ind+3*width, averageValueArr[3][10], width, color='purple')\n",
      "\n",
      "#Middle Africa\n",
      "rects5= ax.bar(ind+4*width, averageValueArr[4][10], width, color='orange')\n",
      "\n",
      "#Middle East\n",
      "rects6= ax.bar(ind+5*width, averageValueArr[5][10], width, color='green')\n",
      "\n",
      "#North America\n",
      "rects7= ax.bar(ind+6*width, averageValueArr[6][10], width, color='yellow')\n",
      "\n",
      "#Northern Africa\n",
      "rects8= ax.bar(ind+7*width, averageValueArr[7][10], width, color='gray')\n",
      "\n",
      "#Oceania\n",
      "rects9= ax.bar(ind+8*width, averageValueArr[8][10], width, color='black')\n",
      "\n",
      "#South America\n",
      "rects10= ax.bar(ind+9*width, averageValueArr[9][10], width, color='red')\n",
      "\n",
      "#Southern Africa\n",
      "rects11= ax.bar(ind+10*width, averageValueArr[10][10], width, color='blue')\n",
      "\n",
      "#The Caribbean\n",
      "rects12= ax.bar(ind+11*width, averageValueArr[11][10], width, color='purple')\n",
      "\n",
      "#Western Africa\n",
      "rects13= ax.bar(ind+12*width, averageValueArr[12][10], width, color='orange')\n",
      "\n",
      "#ax.set_xticklabels(allRegions)\n",
      "ax.set_title('Average Contraceptive Prevalence (Modern Methods) by Region')"
     ],
     "language": "python",
     "metadata": {},
     "outputs": [
      {
       "metadata": {},
       "output_type": "pyout",
       "prompt_number": 14,
       "text": [
        "<matplotlib.text.Text at 0xb9925c0>"
       ]
      },
      {
       "metadata": {},
       "output_type": "display_data",
       "png": "[encoded data removed]",
       "text": [
        "<matplotlib.figure.Figure at 0xa3277b8>"
       ]
      }
     ],
     "prompt_number": 14
    },
    {
     "cell_type": "code",
     "collapsed": false,
     "input": [],
     "language": "python",
     "metadata": {},
     "outputs": []
    }
   ],
   "metadata": {}
  }
 ]
}