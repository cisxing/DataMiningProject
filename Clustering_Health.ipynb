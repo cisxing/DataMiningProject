{
 "metadata": {
  "name": "",
  "signature": "sha256:9fe825fa7a6b8572e8014b516fd1e32cf20c78b506b8825447b1d323a5c6ac00"
 },
 "nbformat": 3,
 "nbformat_minor": 0,
 "worksheets": [
  {
   "cells": [
    {
     "cell_type": "code",
     "collapsed": false,
     "input": [
      "import sys\n",
      "import numpy as np\n",
      "health_region = np.loadtxt(\"C:/Users/Sarah Read/Desktop/Data_Mining/Gender_Data/health_data_labels.csv\", delimiter = ',', dtype=\"string\")"
     ],
     "language": "python",
     "metadata": {},
     "outputs": [],
     "prompt_number": 5
    },
    {
     "cell_type": "code",
     "collapsed": false,
     "input": [
      "health_data = health_region[1:113,2:14]"
     ],
     "language": "python",
     "metadata": {},
     "outputs": [],
     "prompt_number": 6
    },
    {
     "cell_type": "code",
     "collapsed": false,
     "input": [
      "#remove quotation marks from data\n",
      "for i in range(len(health_data)):\n",
      "   for j in range(size(health_data[0:1])):\n",
      "        health_data[i-1,j-1] = health_data[i-1,j-1].lstrip('\"').rstrip('\"')"
     ],
     "language": "python",
     "metadata": {},
     "outputs": [],
     "prompt_number": 7
    },
    {
     "cell_type": "code",
     "collapsed": false,
     "input": [
      "health_data[1]"
     ],
     "language": "python",
     "metadata": {},
     "outputs": [
      {
       "metadata": {},
       "output_type": "pyout",
       "prompt_number": 10,
       "text": [
        "array(['67', '65', '18', '17', '260', '66', '86', '28.1', '3.2', '27',\n",
        "       '19', 'Asia'], \n",
        "      dtype='|S41')"
       ]
      }
     ],
     "prompt_number": 10
    },
    {
     "cell_type": "code",
     "collapsed": false,
     "input": [
      "curColor = 0\n",
      "curLabel = 0\n",
      "curRegion = 'Asia'\n",
      "color = ['b', 'g', 'r', 'c', 'm', 'y', 'k', 'w', 'b', 'g', 'r', 'c', 'm', 'y']\n",
      "labels = ['Asia', 'CAm', 'EAf', 'Eur', 'MAf', 'ME', 'NAm', 'NAf', 'Oc', 'SAm', 'SAf', 'Car', 'WAf']\n",
      "colorCountries = [None]*len(health_data)\n",
      "labelsCountries = [None]*len(health_data)"
     ],
     "language": "python",
     "metadata": {},
     "outputs": [],
     "prompt_number": 14
    },
    {
     "cell_type": "code",
     "collapsed": false,
     "input": [
      "for i in range(len(health_data)):\n",
      "    if(curRegion != health_data[i,11]):\n",
      "        curColor = curColor + 1\n",
      "        curRegion = health_data[i,11]\n",
      "        curLabel = curLabel +1\n",
      "    colorCountries[i] = color[curColor] \n",
      "    labelsCountries[i] = labels[curLabel]"
     ],
     "language": "python",
     "metadata": {},
     "outputs": [],
     "prompt_number": 15
    },
    {
     "cell_type": "code",
     "collapsed": false,
     "input": [
      "import scipy.cluster.hierarchy as sch\n",
      "from scipy.spatial.distance import pdist, squareform\n",
      "from scipy.cluster.hierarchy import linkage, dendrogram"
     ],
     "language": "python",
     "metadata": {},
     "outputs": [],
     "prompt_number": 16
    },
    {
     "cell_type": "code",
     "collapsed": false,
     "input": [
      "distanceMatrix = pdist(health_data[:,1:10])\n",
      "out=dendrogram(linkage(distanceMatrix, method='single'), \n",
      "           color_threshold=80, labels =  labelsCountries)\n",
      "f = gcf()\n",
      "f.set_size_inches(30, 4);"
     ],
     "language": "python",
     "metadata": {},
     "outputs": [
      {
       "metadata": {},
       "output_type": "display_data",
       "png": "[encoded data removed]",
       "text": [
        "<matplotlib.figure.Figure at 0xa293a20>"
       ]
      }
     ],
     "prompt_number": 19
    },
    {
     "cell_type": "code",
     "collapsed": false,
     "input": [],
     "language": "python",
     "metadata": {},
     "outputs": []
    }
   ],
   "metadata": {}
  }
 ]
}