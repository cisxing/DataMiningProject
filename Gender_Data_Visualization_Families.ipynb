{
 "metadata": {
  "name": "",
  "signature": "sha256:89bec89e2a6c60ce9647e5baa729445d720f3d14f5cc25a2e346b641549ae9e1"
 },
 "nbformat": 3,
 "nbformat_minor": 0,
 "worksheets": [
  {
   "cells": [
    {
     "cell_type": "code",
     "collapsed": false,
     "input": [
      "#load families data\n",
      "import sys\n",
      "import numpy as np\n",
      "families_data = np.loadtxt(\"C:/Users/Sarah Read/Desktop/Data_Mining/Gender_Data/families_data.csv\", delimiter = ',', dtype=\"string\")"
     ],
     "language": "python",
     "metadata": {},
     "outputs": [],
     "prompt_number": 41
    },
    {
     "cell_type": "code",
     "collapsed": false,
     "input": [
      "families_data[1:2]"
     ],
     "language": "python",
     "metadata": {},
     "outputs": [
      {
       "metadata": {},
       "output_type": "pyout",
       "prompt_number": 42,
       "text": [
        "array([['\"1\"', '\"Afghanistan\"', '\"16\"', '\"18\"', '\"15\"', '\"\\x85\"', '2011',\n",
        "        '2010', '17.3', '\"\\x85\"', '21.5', '\"\\x85\"', 'NA']], \n",
        "      dtype='|S55')"
       ]
      }
     ],
     "prompt_number": 42
    },
    {
     "cell_type": "code",
     "collapsed": false,
     "input": [
      "#get rid of first columm since it is unnecessary\n",
      "families_data_sub = families_data[1:210,1:30]\n",
      "families_data_sub[0:1]"
     ],
     "language": "python",
     "metadata": {},
     "outputs": [
      {
       "metadata": {},
       "output_type": "pyout",
       "prompt_number": 43,
       "text": [
        "array([['\"Afghanistan\"', '\"16\"', '\"18\"', '\"15\"', '\"\\x85\"', '2011', '2010',\n",
        "        '17.3', '\"\\x85\"', '21.5', '\"\\x85\"', 'NA']], \n",
        "      dtype='|S55')"
       ]
      }
     ],
     "prompt_number": 43
    },
    {
     "cell_type": "code",
     "collapsed": false,
     "input": [
      "families_data_sub[209:210]"
     ],
     "language": "python",
     "metadata": {},
     "outputs": [
      {
       "metadata": {},
       "output_type": "pyout",
       "prompt_number": 44,
       "text": [
        "array([], shape=(0L, 12L), \n",
        "      dtype='|S55')"
       ]
      }
     ],
     "prompt_number": 44
    },
    {
     "cell_type": "code",
     "collapsed": false,
     "input": [
      "#remove quotation marks from data\n",
      "for i in range(len(families_data_sub)):\n",
      "   for j in range(size(families_data_sub[0:1])):\n",
      "        families_data_sub[i-1,j-1] = families_data_sub[i-1,j-1].lstrip('\"').rstrip('\"')"
     ],
     "language": "python",
     "metadata": {},
     "outputs": [],
     "prompt_number": 45
    },
    {
     "cell_type": "code",
     "collapsed": false,
     "input": [
      "families_data_sub[5:6]"
     ],
     "language": "python",
     "metadata": {},
     "outputs": [
      {
       "metadata": {},
       "output_type": "pyout",
       "prompt_number": 46,
       "text": [
        "array([['Angola', '18', '18', '15', '16', '2013', '1970', '35.7', '7.6',\n",
        "        '19.4', '24.5', 'NA']], \n",
        "      dtype='|S55')"
       ]
      }
     ],
     "prompt_number": 46
    },
    {
     "cell_type": "code",
     "collapsed": false,
     "input": [
      "#visualize data\n",
      "#choosing the most interesting data sets for bar plot comparisons\n",
      "\n",
      "# first min age of marriage w/o parental consent\n",
      "# second min age of marriage with parental consent\n",
      "# third mean age of marriage\n",
      "\n",
      "#Angola\n",
      "families_plot_men = families_data_sub[5:6,(2,4,10)]\n",
      "families_plot_men = families_plot_men.astype(double)\n",
      "families_plot_women = families_data_sub[5:6,(1,3,9)]\n",
      "families_plot_women = families_plot_women.astype(double)"
     ],
     "language": "python",
     "metadata": {},
     "outputs": [],
     "prompt_number": 47
    },
    {
     "cell_type": "code",
     "collapsed": false,
     "input": [
      "fam_plot_men = [families_plot_men[0,0], families_plot_men[0,1], families_plot_men[0,2]]\n",
      "fam_plot_men"
     ],
     "language": "python",
     "metadata": {},
     "outputs": [
      {
       "metadata": {},
       "output_type": "pyout",
       "prompt_number": 48,
       "text": [
        "[18.0, 16.0, 24.5]"
       ]
      }
     ],
     "prompt_number": 48
    },
    {
     "cell_type": "code",
     "collapsed": false,
     "input": [
      "fam_plot_women = [families_plot_women[0,0], families_plot_women[0,1], families_plot_women[0,2]]\n",
      "fam_plot_women"
     ],
     "language": "python",
     "metadata": {},
     "outputs": [
      {
       "metadata": {},
       "output_type": "pyout",
       "prompt_number": 49,
       "text": [
        "[18.0, 15.0, 19.399999999999999]"
       ]
      }
     ],
     "prompt_number": 49
    },
    {
     "cell_type": "code",
     "collapsed": false,
     "input": [
      "import matplotlib.pyplot as plt\n",
      "fig = plt.figure()\n",
      "N=3\n",
      "width = 0.35\n",
      "ax = fig.add_subplot(111)\n",
      "ind = np.arange(N)   \n",
      "\n",
      "rects1= ax.bar(ind, fam_plot_men, width, color='black')\n",
      "rects2= ax.bar(ind+width, fam_plot_women, width, color='red')"
     ],
     "language": "python",
     "metadata": {},
     "outputs": [
      {
       "metadata": {},
       "output_type": "display_data",
       "png": "[encoded data removed]",
       "text": [
        "<matplotlib.figure.Figure at 0xa2a5080>"
       ]
      }
     ],
     "prompt_number": 50
    },
    {
     "cell_type": "code",
     "collapsed": false,
     "input": [
      "families_data_sub[201:202]"
     ],
     "language": "python",
     "metadata": {},
     "outputs": [
      {
       "metadata": {},
       "output_type": "pyout",
       "prompt_number": 51,
       "text": [
        "array([['United States of America', '18', '18', '13', '14', '2011', '2009',\n",
        "        '2.8', '1.5', '26.9', '28.8', 'NA']], \n",
        "      dtype='|S55')"
       ]
      }
     ],
     "prompt_number": 51
    },
    {
     "cell_type": "code",
     "collapsed": false,
     "input": [
      "#United States\n",
      "families_plot_men = families_data_sub[201:202,(2,4,10)]\n",
      "families_plot_men = families_plot_men.astype(double)\n",
      "families_plot_women = families_data_sub[201:202,(1,3,9)]\n",
      "families_plot_women = families_plot_women.astype(double)"
     ],
     "language": "python",
     "metadata": {},
     "outputs": [],
     "prompt_number": 52
    },
    {
     "cell_type": "code",
     "collapsed": false,
     "input": [
      "fam_plot_men = [families_plot_men[0,0], families_plot_men[0,1], families_plot_men[0,2]]\n",
      "fam_plot_men"
     ],
     "language": "python",
     "metadata": {},
     "outputs": [
      {
       "metadata": {},
       "output_type": "pyout",
       "prompt_number": 53,
       "text": [
        "[18.0, 14.0, 28.800000000000001]"
       ]
      }
     ],
     "prompt_number": 53
    },
    {
     "cell_type": "code",
     "collapsed": false,
     "input": [
      "fam_plot_women = [families_plot_women[0,0], families_plot_women[0,1], families_plot_women[0,2]]\n",
      "fam_plot_women"
     ],
     "language": "python",
     "metadata": {},
     "outputs": [
      {
       "metadata": {},
       "output_type": "pyout",
       "prompt_number": 54,
       "text": [
        "[18.0, 13.0, 26.899999999999999]"
       ]
      }
     ],
     "prompt_number": 54
    },
    {
     "cell_type": "code",
     "collapsed": false,
     "input": [
      "fig = plt.figure()\n",
      "N=3\n",
      "width = 0.35\n",
      "ax = fig.add_subplot(111)\n",
      "ind = np.arange(N)   \n",
      "\n",
      "rects1= ax.bar(ind, fam_plot_men, width, color='black')\n",
      "rects2= ax.bar(ind+width, fam_plot_women, width, color='red')"
     ],
     "language": "python",
     "metadata": {},
     "outputs": [
      {
       "metadata": {},
       "output_type": "display_data",
       "png": "[encoded data removed]",
       "text": [
        "<matplotlib.figure.Figure at 0xa20bcc0>"
       ]
      }
     ],
     "prompt_number": 55
    },
    {
     "cell_type": "code",
     "collapsed": false,
     "input": [
      "families_data_sub[134:135]"
     ],
     "language": "python",
     "metadata": {},
     "outputs": [
      {
       "metadata": {},
       "output_type": "pyout",
       "prompt_number": 56,
       "text": [
        "array([['Netherlands', '18', '18', '16', '16', '2011', '2011', '0.2',\n",
        "        '0.0', '31.5', '33.9', 'NA']], \n",
        "      dtype='|S55')"
       ]
      }
     ],
     "prompt_number": 56
    },
    {
     "cell_type": "code",
     "collapsed": false,
     "input": [
      "#Netherlands\n",
      "families_plot_men = families_data_sub[134:135,(2,4,10)]\n",
      "families_plot_men = families_plot_men.astype(double)\n",
      "families_plot_women = families_data_sub[134:135,(1,3,9)]\n",
      "families_plot_women = families_plot_women.astype(double)"
     ],
     "language": "python",
     "metadata": {},
     "outputs": [],
     "prompt_number": 57
    },
    {
     "cell_type": "code",
     "collapsed": false,
     "input": [
      "fam_plot_men = [families_plot_men[0,0], families_plot_men[0,1], families_plot_men[0,2]]\n",
      "fam_plot_men"
     ],
     "language": "python",
     "metadata": {},
     "outputs": [
      {
       "metadata": {},
       "output_type": "pyout",
       "prompt_number": 58,
       "text": [
        "[18.0, 16.0, 33.899999999999999]"
       ]
      }
     ],
     "prompt_number": 58
    },
    {
     "cell_type": "code",
     "collapsed": false,
     "input": [
      "fam_plot_women = [families_plot_women[0,0], families_plot_women[0,1], families_plot_women[0,2]]\n",
      "fam_plot_women"
     ],
     "language": "python",
     "metadata": {},
     "outputs": [
      {
       "metadata": {},
       "output_type": "pyout",
       "prompt_number": 59,
       "text": [
        "[18.0, 16.0, 31.5]"
       ]
      }
     ],
     "prompt_number": 59
    },
    {
     "cell_type": "code",
     "collapsed": false,
     "input": [
      "fig = plt.figure()\n",
      "N=3\n",
      "width = 0.35\n",
      "ax = fig.add_subplot(111)\n",
      "ind = np.arange(N)   \n",
      "\n",
      "rects1= ax.bar(ind, fam_plot_men, width, color='black')\n",
      "rects2= ax.bar(ind+width, fam_plot_women, width, color='red')"
     ],
     "language": "python",
     "metadata": {},
     "outputs": [
      {
       "metadata": {},
       "output_type": "display_data",
       "png": "[encoded data removed]",
       "text": [
        "<matplotlib.figure.Figure at 0xa1b7c18>"
       ]
      }
     ],
     "prompt_number": 60
    },
    {
     "cell_type": "code",
     "collapsed": false,
     "input": [
      "family_region = np.loadtxt(\"C:/Users/Sarah Read/Desktop/Data_Mining/Gender_Data/family_data_labels.csv\", delimiter = ',', dtype=\"string\")"
     ],
     "language": "python",
     "metadata": {},
     "outputs": [],
     "prompt_number": 2
    },
    {
     "cell_type": "code",
     "collapsed": false,
     "input": [
      "family_data = family_region[1:90,2:9]"
     ],
     "language": "python",
     "metadata": {},
     "outputs": [],
     "prompt_number": 3
    },
    {
     "cell_type": "code",
     "collapsed": false,
     "input": [
      "family_data[1:2]"
     ],
     "language": "python",
     "metadata": {},
     "outputs": [
      {
       "metadata": {},
       "output_type": "pyout",
       "prompt_number": 4,
       "text": [
        "array([['16', '18', '10.8', '2.3', '22.7', '26.4', 'Asia']], \n",
        "      dtype='|S47')"
       ]
      }
     ],
     "prompt_number": 4
    },
    {
     "cell_type": "code",
     "collapsed": false,
     "input": [
      "#remove quotation marks from data\n",
      "for i in range(len(family_data)):\n",
      "   for j in range(size(family_data[0:1])):\n",
      "        family_data[i-1,j-1] = family_data[i-1,j-1].lstrip('\"').rstrip('\"')"
     ],
     "language": "python",
     "metadata": {},
     "outputs": [],
     "prompt_number": 5
    },
    {
     "cell_type": "code",
     "collapsed": false,
     "input": [
      "curRegion='Asia'\n",
      "allInCategory=0\n",
      "totalRegions = 0\n",
      "averageValueArr = [[0 for x in range(6)] for x in range(13)]\n",
      "allRegions = [None]*13"
     ],
     "language": "python",
     "metadata": {},
     "outputs": [],
     "prompt_number": 6
    },
    {
     "cell_type": "code",
     "collapsed": false,
     "input": [
      "for i in range(len(family_data)):\n",
      "    if(curRegion != family_data[i,6]):\n",
      "        allRegions[totalRegions] = curRegion\n",
      "        curRegion = family_data[i,6]\n",
      "        for y in range(0,6):\n",
      "            averageValueArr[totalRegions][y] = averageValueArr[totalRegions][y]/allInCategory\n",
      "        totalRegions = totalRegions+1\n",
      "        allInCategory = 0\n",
      "    for j in range(0,6):\n",
      "        averageValueArr[totalRegions][j] = averageValueArr[totalRegions][j] + family_data[i,j].astype(double)\n",
      "    allInCategory=allInCategory+1\n",
      "for y in range(0,6):\n",
      "    averageValueArr[totalRegions][y] = averageValueArr[totalRegions][y]/allInCategory\n",
      "allRegions[totalRegions] = curRegion"
     ],
     "language": "python",
     "metadata": {},
     "outputs": [],
     "prompt_number": 7
    },
    {
     "cell_type": "code",
     "collapsed": false,
     "input": [
      "import matplotlib.pyplot as plt\n",
      "fig = plt.figure()\n",
      "N=1\n",
      "width = 0.35\n",
      "ax = fig.add_subplot(111)\n",
      "ind = np.arange(N)   \n",
      "\n",
      "#Asia\n",
      "rects1= ax.bar(ind, averageValueArr[0][0], width, color='black')\n",
      "\n",
      "#Central America\n",
      "rects2= ax.bar(ind+width, averageValueArr[1][0], width, color='red')\n",
      "\n",
      "#Eastern Africa\n",
      "rects3= ax.bar(ind+2*width, averageValueArr[2][0], width, color='blue')\n",
      "\n",
      "#Europe\n",
      "rects4= ax.bar(ind+3*width, averageValueArr[3][0], width, color='purple')\n",
      "\n",
      "#Middle Africa\n",
      "rects5= ax.bar(ind+4*width, averageValueArr[4][0], width, color='orange')\n",
      "\n",
      "#Middle East\n",
      "rects6= ax.bar(ind+5*width, averageValueArr[5][0], width, color='green')\n",
      "\n",
      "#North America\n",
      "rects7= ax.bar(ind+6*width, averageValueArr[6][0], width, color='yellow')\n",
      "\n",
      "#Northern Africa\n",
      "rects8= ax.bar(ind+7*width, averageValueArr[7][0], width, color='gray')\n",
      "\n",
      "#Oceania\n",
      "rects9= ax.bar(ind+8*width, averageValueArr[8][0], width, color='black')\n",
      "\n",
      "#South America\n",
      "rects10= ax.bar(ind+9*width, averageValueArr[9][0], width, color='red')\n",
      "\n",
      "#Southern Africa\n",
      "rects11= ax.bar(ind+10*width, averageValueArr[10][0], width, color='blue')\n",
      "\n",
      "#The Caribbean\n",
      "rects12= ax.bar(ind+11*width, averageValueArr[11][0], width, color='purple')\n",
      "\n",
      "#Western Africa\n",
      "rects13= ax.bar(ind+12*width, averageValueArr[12][0], width, color='orange')\n",
      "\n",
      "#ax.set_xticklabels(allRegions)\n",
      "ax.set_title('Average Minimum Marriage Age for Women Region')"
     ],
     "language": "python",
     "metadata": {},
     "outputs": [
      {
       "metadata": {},
       "output_type": "pyout",
       "prompt_number": 8,
       "text": [
        "<matplotlib.text.Text at 0xa2f32e8>"
       ]
      },
      {
       "metadata": {},
       "output_type": "display_data",
       "png": "[encoded data removed]",
       "text": [
        "<matplotlib.figure.Figure at 0xa28d0f0>"
       ]
      }
     ],
     "prompt_number": 8
    },
    {
     "cell_type": "code",
     "collapsed": false,
     "input": [
      "import matplotlib.pyplot as plt\n",
      "fig = plt.figure()\n",
      "N=1\n",
      "width = 0.35\n",
      "ax = fig.add_subplot(111)\n",
      "ind = np.arange(N)   \n",
      "\n",
      "#Asia\n",
      "rects1= ax.bar(ind, averageValueArr[0][1], width, color='black')\n",
      "\n",
      "#Central America\n",
      "rects2= ax.bar(ind+width, averageValueArr[1][1], width, color='red')\n",
      "\n",
      "#Eastern Africa\n",
      "rects3= ax.bar(ind+2*width, averageValueArr[2][1], width, color='blue')\n",
      "\n",
      "#Europe\n",
      "rects4= ax.bar(ind+3*width, averageValueArr[3][1], width, color='purple')\n",
      "\n",
      "#Middle Africa\n",
      "rects5= ax.bar(ind+4*width, averageValueArr[4][1], width, color='orange')\n",
      "\n",
      "#Middle East\n",
      "rects6= ax.bar(ind+5*width, averageValueArr[5][1], width, color='green')\n",
      "\n",
      "#North America\n",
      "rects7= ax.bar(ind+6*width, averageValueArr[6][1], width, color='yellow')\n",
      "\n",
      "#Northern Africa\n",
      "rects8= ax.bar(ind+7*width, averageValueArr[7][1], width, color='gray')\n",
      "\n",
      "#Oceania\n",
      "rects9= ax.bar(ind+8*width, averageValueArr[8][1], width, color='black')\n",
      "\n",
      "#South America\n",
      "rects10= ax.bar(ind+9*width, averageValueArr[9][1], width, color='red')\n",
      "\n",
      "#Southern Africa\n",
      "rects11= ax.bar(ind+10*width, averageValueArr[10][1], width, color='blue')\n",
      "\n",
      "#The Caribbean\n",
      "rects12= ax.bar(ind+11*width, averageValueArr[11][1], width, color='purple')\n",
      "\n",
      "#Western Africa\n",
      "rects13= ax.bar(ind+12*width, averageValueArr[12][1], width, color='orange')\n",
      "\n",
      "#ax.set_xticklabels(allRegions)\n",
      "ax.set_title('Average Minimum Marriage Age for Men by Region')"
     ],
     "language": "python",
     "metadata": {},
     "outputs": [
      {
       "metadata": {},
       "output_type": "pyout",
       "prompt_number": 9,
       "text": [
        "<matplotlib.text.Text at 0xa27dd30>"
       ]
      },
      {
       "metadata": {},
       "output_type": "display_data",
       "png": "[encoded data removed]",
       "text": [
        "<matplotlib.figure.Figure at 0xa5bd828>"
       ]
      }
     ],
     "prompt_number": 9
    },
    {
     "cell_type": "code",
     "collapsed": false,
     "input": [
      "import matplotlib.pyplot as plt\n",
      "fig = plt.figure()\n",
      "N=1\n",
      "width = 0.35\n",
      "ax = fig.add_subplot(111)\n",
      "ind = np.arange(N)   \n",
      "\n",
      "#Asia\n",
      "rects1= ax.bar(ind, averageValueArr[0][4], width, color='black')\n",
      "\n",
      "#Central America\n",
      "rects2= ax.bar(ind+width, averageValueArr[1][4], width, color='red')\n",
      "\n",
      "#Eastern Africa\n",
      "rects3= ax.bar(ind+2*width, averageValueArr[2][4], width, color='blue')\n",
      "\n",
      "#Europe\n",
      "rects4= ax.bar(ind+3*width, averageValueArr[3][4], width, color='purple')\n",
      "\n",
      "#Middle Africa\n",
      "rects5= ax.bar(ind+4*width, averageValueArr[4][4], width, color='orange')\n",
      "\n",
      "#Middle East\n",
      "rects6= ax.bar(ind+5*width, averageValueArr[5][4], width, color='green')\n",
      "\n",
      "#North America\n",
      "rects7= ax.bar(ind+6*width, averageValueArr[6][4], width, color='yellow')\n",
      "\n",
      "#Northern Africa\n",
      "rects8= ax.bar(ind+7*width, averageValueArr[7][4], width, color='gray')\n",
      "\n",
      "#Oceania\n",
      "rects9= ax.bar(ind+8*width, averageValueArr[8][4], width, color='black')\n",
      "\n",
      "#South America\n",
      "rects10= ax.bar(ind+9*width, averageValueArr[9][4], width, color='red')\n",
      "\n",
      "#Southern Africa\n",
      "rects11= ax.bar(ind+10*width, averageValueArr[10][4], width, color='blue')\n",
      "\n",
      "#The Caribbean\n",
      "rects12= ax.bar(ind+11*width, averageValueArr[11][4], width, color='purple')\n",
      "\n",
      "#Western Africa\n",
      "rects13= ax.bar(ind+12*width, averageValueArr[12][4], width, color='orange')\n",
      "\n",
      "#ax.set_xticklabels(allRegions)\n",
      "ax.set_title('Average Mean Age Women Married by Region')"
     ],
     "language": "python",
     "metadata": {},
     "outputs": [
      {
       "metadata": {},
       "output_type": "pyout",
       "prompt_number": 28,
       "text": [
        "<matplotlib.text.Text at 0xa502cc0>"
       ]
      },
      {
       "metadata": {},
       "output_type": "display_data",
       "png": "[encoded data removed]",
       "text": [
        "<matplotlib.figure.Figure at 0x9fae9e8>"
       ]
      }
     ],
     "prompt_number": 28
    },
    {
     "cell_type": "code",
     "collapsed": false,
     "input": [
      "import matplotlib.pyplot as plt\n",
      "fig = plt.figure()\n",
      "N=1\n",
      "width = 0.35\n",
      "ax = fig.add_subplot(111)\n",
      "ind = np.arange(N)   \n",
      "\n",
      "#Asia\n",
      "rects1= ax.bar(ind, averageValueArr[0][5], width, color='black')\n",
      "\n",
      "#Central America\n",
      "rects2= ax.bar(ind+width, averageValueArr[1][5], width, color='red')\n",
      "\n",
      "#Eastern Africa\n",
      "rects3= ax.bar(ind+2*width, averageValueArr[2][5], width, color='blue')\n",
      "\n",
      "#Europe\n",
      "rects4= ax.bar(ind+3*width, averageValueArr[3][5], width, color='purple')\n",
      "\n",
      "#Middle Africa\n",
      "rects5= ax.bar(ind+4*width, averageValueArr[4][5], width, color='orange')\n",
      "\n",
      "#Middle East\n",
      "rects6= ax.bar(ind+5*width, averageValueArr[5][5], width, color='green')\n",
      "\n",
      "#North America\n",
      "rects7= ax.bar(ind+6*width, averageValueArr[6][5], width, color='yellow')\n",
      "\n",
      "#Northern Africa\n",
      "rects8= ax.bar(ind+7*width, averageValueArr[7][5], width, color='gray')\n",
      "\n",
      "#Oceania\n",
      "rects9= ax.bar(ind+8*width, averageValueArr[8][5], width, color='black')\n",
      "\n",
      "#South America\n",
      "rects10= ax.bar(ind+9*width, averageValueArr[9][5], width, color='red')\n",
      "\n",
      "#Southern Africa\n",
      "rects11= ax.bar(ind+10*width, averageValueArr[10][5], width, color='blue')\n",
      "\n",
      "#The Caribbean\n",
      "rects12= ax.bar(ind+11*width, averageValueArr[11][5], width, color='purple')\n",
      "\n",
      "#Western Africa\n",
      "rects13= ax.bar(ind+12*width, averageValueArr[12][5], width, color='orange')\n",
      "\n",
      "#ax.set_xticklabels(allRegions)\n",
      "ax.set_title('Average Mean Age Men Married by Region')"
     ],
     "language": "python",
     "metadata": {},
     "outputs": [
      {
       "metadata": {},
       "output_type": "pyout",
       "prompt_number": 10,
       "text": [
        "<matplotlib.text.Text at 0xa5dfbe0>"
       ]
      },
      {
       "metadata": {},
       "output_type": "display_data",
       "png": "[encoded data removed]",
       "text": [
        "<matplotlib.figure.Figure at 0xa1e1470>"
       ]
      }
     ],
     "prompt_number": 10
    },
    {
     "cell_type": "code",
     "collapsed": false,
     "input": [],
     "language": "python",
     "metadata": {},
     "outputs": []
    }
   ],
   "metadata": {}
  }
 ]
}