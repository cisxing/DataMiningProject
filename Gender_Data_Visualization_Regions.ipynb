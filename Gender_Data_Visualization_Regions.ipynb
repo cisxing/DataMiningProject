{
 "metadata": {
  "name": "",
  "signature": "sha256:2e58b8aa2add58e635e63126649f54bfa1f89c7ecdecb558641c8bb219a156b0"
 },
 "nbformat": 3,
 "nbformat_minor": 0,
 "worksheets": [
  {
   "cells": [
    {
     "cell_type": "code",
     "collapsed": false,
     "input": [
      "#load population data\n",
      "import sys\n",
      "import numpy as np\n",
      "population_data = np.loadtxt(\"C:/Users/Sarah Read/Desktop/Data_Mining/Gender_Data/population_data_region_labels_sorted.csv\", delimiter = ',', dtype=\"string\")"
     ],
     "language": "python",
     "metadata": {},
     "outputs": [],
     "prompt_number": 1
    },
    {
     "cell_type": "code",
     "collapsed": false,
     "input": [
      "population_data[1:2]"
     ],
     "language": "python",
     "metadata": {},
     "outputs": [
      {
       "metadata": {},
       "output_type": "pyout",
       "prompt_number": 2,
       "text": [
        "array([['10', 'Armenia', '3109', '1662', '1447', '115', '20', '13', '17',\n",
        "        '0.3', '64.1', 'Asia']], \n",
        "      dtype='|S37')"
       ]
      }
     ],
     "prompt_number": 2
    },
    {
     "cell_type": "code",
     "collapsed": false,
     "input": [
      "pop_data = population_data[1:145,2:12]"
     ],
     "language": "python",
     "metadata": {},
     "outputs": [],
     "prompt_number": 3
    },
    {
     "cell_type": "code",
     "collapsed": false,
     "input": [
      "pop_data[1:2,9]"
     ],
     "language": "python",
     "metadata": {},
     "outputs": [
      {
       "metadata": {},
       "output_type": "pyout",
       "prompt_number": 4,
       "text": [
        "array(['Asia'], \n",
        "      dtype='|S37')"
       ]
      }
     ],
     "prompt_number": 4
    },
    {
     "cell_type": "code",
     "collapsed": false,
     "input": [
      "#remove quotation marks from data\n",
      "for i in range(len(pop_data)):\n",
      "   for j in range(size(pop_data[0:1])):\n",
      "        pop_data[i-1,j-1] = pop_data[i-1,j-1].lstrip('\"').rstrip('\"')"
     ],
     "language": "python",
     "metadata": {},
     "outputs": [],
     "prompt_number": 5
    },
    {
     "cell_type": "code",
     "collapsed": false,
     "input": [
      "pop_data[0:1]"
     ],
     "language": "python",
     "metadata": {},
     "outputs": [
      {
       "metadata": {},
       "output_type": "pyout",
       "prompt_number": 6,
       "text": [
        "array([['3109', '1662', '1447', '115', '20', '13', '17', '0.3', '64.1',\n",
        "        'Asia']], \n",
        "      dtype='|S37')"
       ]
      }
     ],
     "prompt_number": 6
    },
    {
     "cell_type": "code",
     "collapsed": false,
     "input": [
      "curRegion='Asia'\n",
      "allInCategory=0\n",
      "totalRegions = 0\n",
      "averageValueArr = [[0 for x in range(9)] for x in range(13)]\n",
      "allRegions = [None]*13"
     ],
     "language": "python",
     "metadata": {},
     "outputs": [],
     "prompt_number": 7
    },
    {
     "cell_type": "code",
     "collapsed": false,
     "input": [
      "for i in range(len(pop_data)):\n",
      "    if(curRegion != pop_data[i,9]):\n",
      "        allRegions[totalRegions] = curRegion\n",
      "        curRegion = pop_data[i,9]\n",
      "        for y in range(0,9):\n",
      "            averageValueArr[totalRegions][y] = averageValueArr[totalRegions][y]/allInCategory\n",
      "        totalRegions = totalRegions+1\n",
      "        allInCategory = 0\n",
      "    for j in range(0,9):\n",
      "        averageValueArr[totalRegions][j] = averageValueArr[totalRegions][j] + pop_data[i,j].astype(double)\n",
      "    allInCategory=allInCategory+1\n",
      "for y in range(0,9):\n",
      "    averageValueArr[totalRegions][y] = averageValueArr[totalRegions][y]/allInCategory\n",
      "allRegions[totalRegions] = curRegion"
     ],
     "language": "python",
     "metadata": {},
     "outputs": [],
     "prompt_number": 8
    },
    {
     "cell_type": "code",
     "collapsed": false,
     "input": [
      "allRegions"
     ],
     "language": "python",
     "metadata": {},
     "outputs": [
      {
       "metadata": {},
       "output_type": "pyout",
       "prompt_number": 9,
       "text": [
        "['Asia',\n",
        " 'Central America',\n",
        " 'Eastern Africa',\n",
        " 'Europe',\n",
        " 'Middle Africa',\n",
        " 'Middle East',\n",
        " 'North America',\n",
        " 'Northern Africa',\n",
        " 'Oceania',\n",
        " 'South America',\n",
        " 'Southern Africa',\n",
        " 'The Caribbean',\n",
        " 'Western Africa']"
       ]
      }
     ],
     "prompt_number": 9
    },
    {
     "cell_type": "code",
     "collapsed": false,
     "input": [
      "import matplotlib.pyplot as plt\n",
      "fig = plt.figure()\n",
      "N=1\n",
      "width = 0.35\n",
      "ax = fig.add_subplot(111)\n",
      "ind = np.arange(N)   \n",
      "\n",
      "#Asia\n",
      "rects1= ax.bar(ind, averageValueArr[0][0], width, color='black')\n",
      "\n",
      "#Central America\n",
      "rects2= ax.bar(ind+width, averageValueArr[1][0], width, color='red')\n",
      "\n",
      "#Eastern Africa\n",
      "rects3= ax.bar(ind+2*width, averageValueArr[2][0], width, color='blue')\n",
      "\n",
      "#Europe\n",
      "rects4= ax.bar(ind+3*width, averageValueArr[3][0], width, color='purple')\n",
      "\n",
      "#Middle Africa\n",
      "rects5= ax.bar(ind+4*width, averageValueArr[4][0], width, color='orange')\n",
      "\n",
      "#Middle East\n",
      "rects6= ax.bar(ind+5*width, averageValueArr[5][0], width, color='green')\n",
      "\n",
      "#North America\n",
      "rects7= ax.bar(ind+6*width, averageValueArr[6][0], width, color='yellow')\n",
      "\n",
      "#Northern Africa\n",
      "rects8= ax.bar(ind+7*width, averageValueArr[7][0], width, color='gray')\n",
      "\n",
      "#Oceania\n",
      "rects9= ax.bar(ind+8*width, averageValueArr[8][0], width, color='black')\n",
      "\n",
      "#South America\n",
      "rects10= ax.bar(ind+9*width, averageValueArr[9][0], width, color='red')\n",
      "\n",
      "#Southern Africa\n",
      "rects11= ax.bar(ind+10*width, averageValueArr[10][0], width, color='blue')\n",
      "\n",
      "#The Caribbean\n",
      "rects12= ax.bar(ind+11*width, averageValueArr[11][0], width, color='purple')\n",
      "\n",
      "#Western Africa\n",
      "rects13= ax.bar(ind+12*width, averageValueArr[12][0], width, color='orange')\n",
      "\n",
      "#ax.set_xticklabels(allRegions)\n",
      "ax.set_title('Average Total Population by Region')"
     ],
     "language": "python",
     "metadata": {},
     "outputs": [
      {
       "metadata": {},
       "output_type": "pyout",
       "prompt_number": 10,
       "text": [
        "<matplotlib.text.Text at 0xa0fde80>"
       ]
      },
      {
       "metadata": {},
       "output_type": "display_data",
       "png": "[encoded data removed]",
       "text": [
        "<matplotlib.figure.Figure at 0xa05ef60>"
       ]
      }
     ],
     "prompt_number": 10
    },
    {
     "cell_type": "code",
     "collapsed": false,
     "input": [
      "fig = plt.figure()\n",
      "N=1\n",
      "width = 0.35\n",
      "ax = fig.add_subplot(111)\n",
      "ind = np.arange(N)   \n",
      "\n",
      "#Asia\n",
      "rects1= ax.bar(ind, averageValueArr[0][3], width, color='black')\n",
      "\n",
      "#Central America\n",
      "rects2= ax.bar(ind+width, averageValueArr[1][3], width, color='red')\n",
      "\n",
      "#Eastern Africa\n",
      "rects3= ax.bar(ind+2*width, averageValueArr[2][3], width, color='blue')\n",
      "\n",
      "#Europe\n",
      "rects4= ax.bar(ind+3*width, averageValueArr[3][3], width, color='purple')\n",
      "\n",
      "#Middle Africa\n",
      "rects5= ax.bar(ind+4*width, averageValueArr[4][3], width, color='orange')\n",
      "\n",
      "#Middle East\n",
      "rects6= ax.bar(ind+5*width, averageValueArr[5][3], width, color='green')\n",
      "\n",
      "#North America\n",
      "rects7= ax.bar(ind+6*width, averageValueArr[6][3], width, color='yellow')\n",
      "\n",
      "#Northern Africa\n",
      "rects8= ax.bar(ind+7*width, averageValueArr[7][3], width, color='gray')\n",
      "\n",
      "#Oceania\n",
      "rects9= ax.bar(ind+8*width, averageValueArr[8][3], width, color='black')\n",
      "\n",
      "#South America\n",
      "rects10= ax.bar(ind+9*width, averageValueArr[9][3], width, color='red')\n",
      "\n",
      "#Southern Africa\n",
      "rects11= ax.bar(ind+10*width, averageValueArr[10][3], width, color='blue')\n",
      "\n",
      "#The Caribbean\n",
      "rects12= ax.bar(ind+11*width, averageValueArr[11][3], width, color='purple')\n",
      "\n",
      "#Western Africa\n",
      "rects13= ax.bar(ind+12*width, averageValueArr[12][3], width, color='orange')\n",
      "\n",
      "#ax.set_xticklabels(allRegions)\n",
      "ax.set_title('Average Sex Ratio by Region')"
     ],
     "language": "python",
     "metadata": {},
     "outputs": [
      {
       "metadata": {},
       "output_type": "pyout",
       "prompt_number": 11,
       "text": [
        "<matplotlib.text.Text at 0xa20a860>"
       ]
      },
      {
       "metadata": {},
       "output_type": "display_data",
       "png": "[encoded data removed]",
       "text": [
        "<matplotlib.figure.Figure at 0xa362eb8>"
       ]
      }
     ],
     "prompt_number": 11
    },
    {
     "cell_type": "code",
     "collapsed": false,
     "input": [
      "fig = plt.figure()\n",
      "N=1\n",
      "width = 0.35\n",
      "ax = fig.add_subplot(111)\n",
      "ind = np.arange(N)   \n",
      "\n",
      "#Asia\n",
      "rects1= ax.bar(ind, averageValueArr[0][4], width, color='black')\n",
      "\n",
      "#Central America\n",
      "rects2= ax.bar(ind+width, averageValueArr[1][4], width, color='red')\n",
      "\n",
      "#Eastern Africa\n",
      "rects3= ax.bar(ind+2*width, averageValueArr[2][4], width, color='blue')\n",
      "\n",
      "#Europe\n",
      "rects4= ax.bar(ind+3*width, averageValueArr[3][4], width, color='purple')\n",
      "\n",
      "#Middle Africa\n",
      "rects5= ax.bar(ind+4*width, averageValueArr[4][4], width, color='orange')\n",
      "\n",
      "#Middle East\n",
      "rects6= ax.bar(ind+5*width, averageValueArr[5][4], width, color='green')\n",
      "\n",
      "#North America\n",
      "rects7= ax.bar(ind+6*width, averageValueArr[6][4], width, color='yellow')\n",
      "\n",
      "#Northern Africa\n",
      "rects8= ax.bar(ind+7*width, averageValueArr[7][4], width, color='gray')\n",
      "\n",
      "#Oceania\n",
      "rects9= ax.bar(ind+8*width, averageValueArr[8][4], width, color='black')\n",
      "\n",
      "#South America\n",
      "rects10= ax.bar(ind+9*width, averageValueArr[9][4], width, color='red')\n",
      "\n",
      "#Southern Africa\n",
      "rects11= ax.bar(ind+10*width, averageValueArr[10][4], width, color='blue')\n",
      "\n",
      "#The Caribbean\n",
      "rects12= ax.bar(ind+11*width, averageValueArr[11][4], width, color='purple')\n",
      "\n",
      "#Western Africa\n",
      "rects13= ax.bar(ind+12*width, averageValueArr[12][4], width, color='orange')\n",
      "\n",
      "#ax.set_xticklabels(allRegions)\n",
      "ax.set_title('Average Total Population Under 15 Years Old')"
     ],
     "language": "python",
     "metadata": {},
     "outputs": [
      {
       "metadata": {},
       "output_type": "pyout",
       "prompt_number": 12,
       "text": [
        "<matplotlib.text.Text at 0xa4f5400>"
       ]
      },
      {
       "metadata": {},
       "output_type": "display_data",
       "png": "[encoded data removed]",
       "text": [
        "<matplotlib.figure.Figure at 0xa47fac8>"
       ]
      }
     ],
     "prompt_number": 12
    },
    {
     "cell_type": "code",
     "collapsed": false,
     "input": [
      "averagePercentYouth = [None]*13\n",
      "for i in range(0,13):\n",
      "    averagePercentYouth[i] = averageValueArr[i][4]/averageValueArr[i][0]"
     ],
     "language": "python",
     "metadata": {},
     "outputs": [],
     "prompt_number": 13
    },
    {
     "cell_type": "code",
     "collapsed": false,
     "input": [
      "averagePercentYouth"
     ],
     "language": "python",
     "metadata": {},
     "outputs": [
      {
       "metadata": {},
       "output_type": "pyout",
       "prompt_number": 14,
       "text": [
        "[0.00023697266032478263,\n",
        " 0.0015921677832653801,\n",
        " 0.0022676328177584806,\n",
        " 0.0015463949410204967,\n",
        " 0.0047719062421238342,\n",
        " 0.0024995753148736861,\n",
        " 0.0021262718122444526,\n",
        " 0.00082753803638130525,\n",
        " 0.025131040425073598,\n",
        " 0.00088447728501518023,\n",
        " 0.0029355543418896775,\n",
        " 0.011190629841518444,\n",
        " 0.0020984293473184138]"
       ]
      }
     ],
     "prompt_number": 14
    },
    {
     "cell_type": "code",
     "collapsed": false,
     "input": [
      "fig = plt.figure()\n",
      "N=1\n",
      "width = 0.35\n",
      "ax = fig.add_subplot(111)\n",
      "ind = np.arange(N)   \n",
      "\n",
      "#Asia\n",
      "rects1= ax.bar(ind, averagePercentYouth[0], width, color='black')\n",
      "\n",
      "#Central America\n",
      "rects2= ax.bar(ind+width, averagePercentYouth[1], width, color='red')\n",
      "\n",
      "#Eastern Africa\n",
      "rects3= ax.bar(ind+2*width, averagePercentYouth[2], width, color='blue')\n",
      "\n",
      "#Europe\n",
      "rects4= ax.bar(ind+3*width, averagePercentYouth[3], width, color='purple')\n",
      "\n",
      "#Middle Africa\n",
      "rects5= ax.bar(ind+4*width, averagePercentYouth[4], width, color='orange')\n",
      "\n",
      "#Middle East\n",
      "rects6= ax.bar(ind+5*width, averagePercentYouth[5], width, color='green')\n",
      "\n",
      "#North America\n",
      "rects7= ax.bar(ind+6*width, averagePercentYouth[6], width, color='yellow')\n",
      "\n",
      "#Northern Africa\n",
      "rects8= ax.bar(ind+7*width, averagePercentYouth[7], width, color='gray')\n",
      "\n",
      "#Oceania\n",
      "rects9= ax.bar(ind+8*width, averagePercentYouth[8], width, color='black')\n",
      "\n",
      "#South America\n",
      "rects10= ax.bar(ind+9*width, averagePercentYouth[9], width, color='red')\n",
      "\n",
      "#Southern Africa\n",
      "rects11= ax.bar(ind+10*width, averagePercentYouth[10], width, color='blue')\n",
      "\n",
      "#The Caribbean\n",
      "rects12= ax.bar(ind+11*width, averagePercentYouth[11], width, color='purple')\n",
      "\n",
      "#Western Africa\n",
      "rects13= ax.bar(ind+12*width, averagePercentYouth[12], width, color='orange')\n",
      "\n",
      "#ax.set_xticklabels(allRegions)\n",
      "ax.set_title('Average Percentage of the Population Under 15 Years Old')"
     ],
     "language": "python",
     "metadata": {},
     "outputs": [
      {
       "metadata": {},
       "output_type": "pyout",
       "prompt_number": 15,
       "text": [
        "<matplotlib.text.Text at 0xa58e1d0>"
       ]
      },
      {
       "metadata": {},
       "output_type": "display_data",
       "png": "[encoded data removed]",
       "text": [
        "<matplotlib.figure.Figure at 0xa34fa90>"
       ]
      }
     ],
     "prompt_number": 15
    },
    {
     "cell_type": "code",
     "collapsed": false,
     "input": [
      "fig = plt.figure()\n",
      "N=1\n",
      "width = 0.35\n",
      "ax = fig.add_subplot(111)\n",
      "ind = np.arange(N)   \n",
      "\n",
      "#Asia\n",
      "rects1= ax.bar(ind, averageValueArr[0][8], width, color='black')\n",
      "\n",
      "#Central America\n",
      "rects2= ax.bar(ind+width, averageValueArr[1][8], width, color='red')\n",
      "\n",
      "#Eastern Africa\n",
      "rects3= ax.bar(ind+2*width, averageValueArr[2][8], width, color='blue')\n",
      "\n",
      "#Europe\n",
      "rects4= ax.bar(ind+3*width, averageValueArr[3][8], width, color='purple')\n",
      "\n",
      "#Middle Africa\n",
      "rects5= ax.bar(ind+4*width, averageValueArr[4][8], width, color='orange')\n",
      "\n",
      "#Middle East\n",
      "rects6= ax.bar(ind+5*width, averageValueArr[5][8], width, color='green')\n",
      "\n",
      "#North America\n",
      "rects7= ax.bar(ind+6*width, averageValueArr[6][8], width, color='yellow')\n",
      "\n",
      "#Northern Africa\n",
      "rects8= ax.bar(ind+7*width, averageValueArr[7][8], width, color='gray')\n",
      "\n",
      "#Oceania\n",
      "rects9= ax.bar(ind+8*width, averageValueArr[8][8], width, color='black')\n",
      "\n",
      "#South America\n",
      "rects10= ax.bar(ind+9*width, averageValueArr[9][8], width, color='red')\n",
      "\n",
      "#Southern Africa\n",
      "rects11= ax.bar(ind+10*width, averageValueArr[10][8], width, color='blue')\n",
      "\n",
      "#The Caribbean\n",
      "rects12= ax.bar(ind+11*width, averageValueArr[11][8], width, color='purple')\n",
      "\n",
      "#Western Africa\n",
      "rects13= ax.bar(ind+12*width, averageValueArr[12][8], width, color='orange')\n",
      "\n",
      "#ax.set_xticklabels(allRegions)\n",
      "ax.set_title('Average Urban Population in the Region')"
     ],
     "language": "python",
     "metadata": {},
     "outputs": [
      {
       "metadata": {},
       "output_type": "pyout",
       "prompt_number": 16,
       "text": [
        "<matplotlib.text.Text at 0xab16c18>"
       ]
      },
      {
       "metadata": {},
       "output_type": "display_data",
       "png": "[encoded data removed]",
       "text": [
        "<matplotlib.figure.Figure at 0xa83bdd8>"
       ]
      }
     ],
     "prompt_number": 16
    },
    {
     "cell_type": "code",
     "collapsed": false,
     "input": [],
     "language": "python",
     "metadata": {},
     "outputs": [],
     "prompt_number": 16
    }
   ],
   "metadata": {}
  }
 ]
}