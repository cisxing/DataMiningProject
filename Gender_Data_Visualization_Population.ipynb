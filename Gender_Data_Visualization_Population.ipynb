{
 "metadata": {
  "name": "",
  "signature": "sha256:52be4b679e4f6848eb558a3891033376de0b9d233a5be97129048dd69293bf28"
 },
 "nbformat": 3,
 "nbformat_minor": 0,
 "worksheets": [
  {
   "cells": [
    {
     "cell_type": "code",
     "collapsed": false,
     "input": [
      "#load population data\n",
      "import sys\n",
      "import numpy as np\n",
      "population_data = np.loadtxt(\"C:/Users/Sarah Read/Desktop/Data_Mining/Gender_Data/1a_data_fixed.csv\", delimiter = ',', dtype=\"string\")"
     ],
     "language": "python",
     "metadata": {},
     "outputs": [],
     "prompt_number": 14
    },
    {
     "cell_type": "code",
     "collapsed": false,
     "input": [
      "population_data[1:2]"
     ],
     "language": "python",
     "metadata": {},
     "outputs": [
      {
       "metadata": {},
       "output_type": "pyout",
       "prompt_number": 15,
       "text": [
        "array([['Afghanistan', '2012', '33397', '16121', '17276', '93', '']], \n",
        "      dtype='|S34')"
       ]
      }
     ],
     "prompt_number": 15
    },
    {
     "cell_type": "code",
     "collapsed": false,
     "input": [
      "population_data[227:228]"
     ],
     "language": "python",
     "metadata": {},
     "outputs": [
      {
       "metadata": {},
       "output_type": "pyout",
       "prompt_number": 16,
       "text": [
        "array([['Yemen', '2012', '25569', '12700', '12869', '99', '']], \n",
        "      dtype='|S34')"
       ]
      }
     ],
     "prompt_number": 16
    },
    {
     "cell_type": "code",
     "collapsed": false,
     "input": [
      "pop_data = population_data[1:229,(3,4)]\n",
      "pop_data = pop_data.astype(double)"
     ],
     "language": "python",
     "metadata": {},
     "outputs": [],
     "prompt_number": 17
    },
    {
     "cell_type": "code",
     "collapsed": false,
     "input": [
      "import matplotlib.pyplot as plt\n",
      "\n",
      "plt.scatter(pop_data[:,0], pop_data[:,1])"
     ],
     "language": "python",
     "metadata": {},
     "outputs": [
      {
       "metadata": {},
       "output_type": "pyout",
       "prompt_number": 18,
       "text": [
        "<matplotlib.collections.PathCollection at 0xb3ef048>"
       ]
      },
      {
       "metadata": {},
       "output_type": "display_data",
       "png": "[encoded data removed]",
       "text": [
        "<matplotlib.figure.Figure at 0xa92e160>"
       ]
      }
     ],
     "prompt_number": 18
    },
    {
     "cell_type": "code",
     "collapsed": false,
     "input": [
      "#The above graph shows that all countries have a similar ratio of men\n",
      "#to women since a line can be drawn through all of the data and it would hit\n",
      "#almost all of the points. The slope is basically the same from the origin \n",
      "#to each data point"
     ],
     "language": "python",
     "metadata": {},
     "outputs": []
    },
    {
     "cell_type": "code",
     "collapsed": false,
     "input": [
      "pop_data = population_data[1:229,(2,5)]\n",
      "pop_data = pop_data.astype(double)"
     ],
     "language": "python",
     "metadata": {},
     "outputs": [],
     "prompt_number": 19
    },
    {
     "cell_type": "code",
     "collapsed": false,
     "input": [
      "plt.scatter(pop_data[:,0], pop_data[:,1])"
     ],
     "language": "python",
     "metadata": {},
     "outputs": [
      {
       "metadata": {},
       "output_type": "pyout",
       "prompt_number": 20,
       "text": [
        "<matplotlib.collections.PathCollection at 0xb44e208>"
       ]
      },
      {
       "metadata": {},
       "output_type": "display_data",
       "png": "[encoded data removed]",
       "text": [
        "<matplotlib.figure.Figure at 0xb4dc5f8>"
       ]
      }
     ],
     "prompt_number": 20
    },
    {
     "cell_type": "code",
     "collapsed": false,
     "input": [
      "#not sure what the outlier is of the above graph. I cannot find it in the raw data\n",
      "#other than that point, all other countries have roughly the same ratio\n",
      "#independent of the total population"
     ],
     "language": "python",
     "metadata": {},
     "outputs": []
    }
   ],
   "metadata": {}
  }
 ]
}