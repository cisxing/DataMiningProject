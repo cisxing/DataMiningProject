{
 "metadata": {
  "name": "",
  "signature": "sha256:f2159e7b8c46c669e21d6b89da64f5860b2255ad47bc456c71f01beb43d27363"
 },
 "nbformat": 3,
 "nbformat_minor": 0,
 "worksheets": [
  {
   "cells": [
    {
     "cell_type": "code",
     "collapsed": false,
     "input": [
      "#load education data\n",
      "import sys\n",
      "import numpy as np\n",
      "education_data = np.loadtxt(\"C:/Users/Sarah Read/Desktop/Data_Mining/Gender_Data/education_data.csv\", delimiter = ',', dtype=\"string\")"
     ],
     "language": "python",
     "metadata": {},
     "outputs": [],
     "prompt_number": 6
    },
    {
     "cell_type": "code",
     "collapsed": false,
     "input": [
      "#see current state\n",
      "education_data[5:6]"
     ],
     "language": "python",
     "metadata": {},
     "outputs": [
      {
       "metadata": {},
       "output_type": "pyout",
       "prompt_number": 7,
       "text": [
        "array([['\"7\"', '\"Aruba\"', '97', '97', '97', '99', '99', '99', '100', '100',\n",
        "        '49', '85', '59', '54', '75', '72', '50', '35', '27', '57']], \n",
        "      dtype='|S50')"
       ]
      }
     ],
     "prompt_number": 7
    },
    {
     "cell_type": "code",
     "collapsed": false,
     "input": [
      "#get rid of first columm since it is unnecessary\n",
      "education_data_with_labels = education_data[1:153,1:30]\n",
      "education_data = education_data[1:153,1:30]\n",
      "\n",
      "#remove quotation marks from data\n",
      "for i in range(len(education_data)):\n",
      "   for j in range(size(education_data[0:1])):\n",
      "        education_data[i-1,j-1] = education_data[i-1,j-1].lstrip('\"').rstrip('\"')"
     ],
     "language": "python",
     "metadata": {},
     "outputs": [],
     "prompt_number": 8
    },
    {
     "cell_type": "code",
     "collapsed": false,
     "input": [
      "#see current state of data\n",
      "education_data[0:1]"
     ],
     "language": "python",
     "metadata": {},
     "outputs": [
      {
       "metadata": {},
       "output_type": "pyout",
       "prompt_number": 9,
       "text": [
        "array([['Albania', '96', '97', '95', '99', '99', '99', '80', '80', '48',\n",
        "        '83', '63', '51', '73', '75', '48', '22', '14', '62']], \n",
        "      dtype='|S50')"
       ]
      }
     ],
     "prompt_number": 9
    },
    {
     "cell_type": "code",
     "collapsed": false,
     "input": [
      "#visualize data\n",
      "#choosing the most interesting data sets for bar plot comparisons\n",
      "\n",
      "#first set adult literacy rate\n",
      "#second set youth literacy rate\n",
      "#third primary school enrolment \n",
      "#fourth secondary school enrolment\n",
      "#fith tertiary school enrolment\n",
      "\n",
      "#Albania\n",
      "education_plot_men = education_data[0:1,(3,6,10,21,26)]\n",
      "education_plot_women = education_data[0:1,(4,7,9,20,25)]\n",
      "education_plot_men = education_plot_men.astype(double)\n",
      "education_plot_women = education_plot_women.astype(double)"
     ],
     "language": "python",
     "metadata": {},
     "outputs": [
      {
       "ename": "IndexError",
       "evalue": "index 21 is out of bounds for axis 1 with size 19",
       "output_type": "pyerr",
       "traceback": [
        "\u001b[1;31m---------------------------------------------------------------------------\u001b[0m\n\u001b[1;31mIndexError\u001b[0m                                Traceback (most recent call last)",
        "\u001b[1;32m<ipython-input-10-1be073dcc299>\u001b[0m in \u001b[0;36m<module>\u001b[1;34m()\u001b[0m\n\u001b[0;32m      9\u001b[0m \u001b[1;33m\u001b[0m\u001b[0m\n\u001b[0;32m     10\u001b[0m \u001b[1;31m#Albania\u001b[0m\u001b[1;33m\u001b[0m\u001b[1;33m\u001b[0m\u001b[0m\n\u001b[1;32m---> 11\u001b[1;33m \u001b[0meducation_plot_men\u001b[0m \u001b[1;33m=\u001b[0m \u001b[0meducation_data\u001b[0m\u001b[1;33m[\u001b[0m\u001b[1;36m0\u001b[0m\u001b[1;33m:\u001b[0m\u001b[1;36m1\u001b[0m\u001b[1;33m,\u001b[0m\u001b[1;33m(\u001b[0m\u001b[1;36m3\u001b[0m\u001b[1;33m,\u001b[0m\u001b[1;36m6\u001b[0m\u001b[1;33m,\u001b[0m\u001b[1;36m10\u001b[0m\u001b[1;33m,\u001b[0m\u001b[1;36m21\u001b[0m\u001b[1;33m,\u001b[0m\u001b[1;36m26\u001b[0m\u001b[1;33m)\u001b[0m\u001b[1;33m]\u001b[0m\u001b[1;33m\u001b[0m\u001b[0m\n\u001b[0m\u001b[0;32m     12\u001b[0m \u001b[0meducation_plot_women\u001b[0m \u001b[1;33m=\u001b[0m \u001b[0meducation_data\u001b[0m\u001b[1;33m[\u001b[0m\u001b[1;36m0\u001b[0m\u001b[1;33m:\u001b[0m\u001b[1;36m1\u001b[0m\u001b[1;33m,\u001b[0m\u001b[1;33m(\u001b[0m\u001b[1;36m4\u001b[0m\u001b[1;33m,\u001b[0m\u001b[1;36m7\u001b[0m\u001b[1;33m,\u001b[0m\u001b[1;36m9\u001b[0m\u001b[1;33m,\u001b[0m\u001b[1;36m20\u001b[0m\u001b[1;33m,\u001b[0m\u001b[1;36m25\u001b[0m\u001b[1;33m)\u001b[0m\u001b[1;33m]\u001b[0m\u001b[1;33m\u001b[0m\u001b[0m\n\u001b[0;32m     13\u001b[0m \u001b[0meducation_plot_men\u001b[0m \u001b[1;33m=\u001b[0m \u001b[0meducation_plot_men\u001b[0m\u001b[1;33m.\u001b[0m\u001b[0mastype\u001b[0m\u001b[1;33m(\u001b[0m\u001b[0mdouble\u001b[0m\u001b[1;33m)\u001b[0m\u001b[1;33m\u001b[0m\u001b[0m\n",
        "\u001b[1;31mIndexError\u001b[0m: index 21 is out of bounds for axis 1 with size 19"
       ]
      }
     ],
     "prompt_number": 10
    },
    {
     "cell_type": "code",
     "collapsed": false,
     "input": [
      "ed_plot_men = [education_plot_men[0,0], education_plot_men[0,1], education_plot_men[0,2],education_plot_men[0,3], education_plot_men[0,4]]\n",
      "ed_plot_men"
     ],
     "language": "python",
     "metadata": {},
     "outputs": [
      {
       "ename": "NameError",
       "evalue": "name 'education_plot_men' is not defined",
       "output_type": "pyerr",
       "traceback": [
        "\u001b[1;31m---------------------------------------------------------------------------\u001b[0m\n\u001b[1;31mNameError\u001b[0m                                 Traceback (most recent call last)",
        "\u001b[1;32m<ipython-input-11-d025f4e0869a>\u001b[0m in \u001b[0;36m<module>\u001b[1;34m()\u001b[0m\n\u001b[1;32m----> 1\u001b[1;33m \u001b[0med_plot_men\u001b[0m \u001b[1;33m=\u001b[0m \u001b[1;33m[\u001b[0m\u001b[0meducation_plot_men\u001b[0m\u001b[1;33m[\u001b[0m\u001b[1;36m0\u001b[0m\u001b[1;33m,\u001b[0m\u001b[1;36m0\u001b[0m\u001b[1;33m]\u001b[0m\u001b[1;33m,\u001b[0m \u001b[0meducation_plot_men\u001b[0m\u001b[1;33m[\u001b[0m\u001b[1;36m0\u001b[0m\u001b[1;33m,\u001b[0m\u001b[1;36m1\u001b[0m\u001b[1;33m]\u001b[0m\u001b[1;33m,\u001b[0m \u001b[0meducation_plot_men\u001b[0m\u001b[1;33m[\u001b[0m\u001b[1;36m0\u001b[0m\u001b[1;33m,\u001b[0m\u001b[1;36m2\u001b[0m\u001b[1;33m]\u001b[0m\u001b[1;33m,\u001b[0m\u001b[0meducation_plot_men\u001b[0m\u001b[1;33m[\u001b[0m\u001b[1;36m0\u001b[0m\u001b[1;33m,\u001b[0m\u001b[1;36m3\u001b[0m\u001b[1;33m]\u001b[0m\u001b[1;33m,\u001b[0m \u001b[0meducation_plot_men\u001b[0m\u001b[1;33m[\u001b[0m\u001b[1;36m0\u001b[0m\u001b[1;33m,\u001b[0m\u001b[1;36m4\u001b[0m\u001b[1;33m]\u001b[0m\u001b[1;33m]\u001b[0m\u001b[1;33m\u001b[0m\u001b[0m\n\u001b[0m\u001b[0;32m      2\u001b[0m \u001b[0med_plot_men\u001b[0m\u001b[1;33m\u001b[0m\u001b[0m\n",
        "\u001b[1;31mNameError\u001b[0m: name 'education_plot_men' is not defined"
       ]
      }
     ],
     "prompt_number": 11
    },
    {
     "cell_type": "code",
     "collapsed": false,
     "input": [
      "ed_plot_women = [education_plot_women[0,0], education_plot_women[0,1], education_plot_women[0,2],education_plot_women[0,3], education_plot_women[0,4]]\n",
      "ed_plot_women"
     ],
     "language": "python",
     "metadata": {},
     "outputs": [
      {
       "ename": "NameError",
       "evalue": "name 'education_plot_women' is not defined",
       "output_type": "pyerr",
       "traceback": [
        "\u001b[1;31m---------------------------------------------------------------------------\u001b[0m\n\u001b[1;31mNameError\u001b[0m                                 Traceback (most recent call last)",
        "\u001b[1;32m<ipython-input-12-ac3c4d43a919>\u001b[0m in \u001b[0;36m<module>\u001b[1;34m()\u001b[0m\n\u001b[1;32m----> 1\u001b[1;33m \u001b[0med_plot_women\u001b[0m \u001b[1;33m=\u001b[0m \u001b[1;33m[\u001b[0m\u001b[0meducation_plot_women\u001b[0m\u001b[1;33m[\u001b[0m\u001b[1;36m0\u001b[0m\u001b[1;33m,\u001b[0m\u001b[1;36m0\u001b[0m\u001b[1;33m]\u001b[0m\u001b[1;33m,\u001b[0m \u001b[0meducation_plot_women\u001b[0m\u001b[1;33m[\u001b[0m\u001b[1;36m0\u001b[0m\u001b[1;33m,\u001b[0m\u001b[1;36m1\u001b[0m\u001b[1;33m]\u001b[0m\u001b[1;33m,\u001b[0m \u001b[0meducation_plot_women\u001b[0m\u001b[1;33m[\u001b[0m\u001b[1;36m0\u001b[0m\u001b[1;33m,\u001b[0m\u001b[1;36m2\u001b[0m\u001b[1;33m]\u001b[0m\u001b[1;33m,\u001b[0m\u001b[0meducation_plot_women\u001b[0m\u001b[1;33m[\u001b[0m\u001b[1;36m0\u001b[0m\u001b[1;33m,\u001b[0m\u001b[1;36m3\u001b[0m\u001b[1;33m]\u001b[0m\u001b[1;33m,\u001b[0m \u001b[0meducation_plot_women\u001b[0m\u001b[1;33m[\u001b[0m\u001b[1;36m0\u001b[0m\u001b[1;33m,\u001b[0m\u001b[1;36m4\u001b[0m\u001b[1;33m]\u001b[0m\u001b[1;33m]\u001b[0m\u001b[1;33m\u001b[0m\u001b[0m\n\u001b[0m\u001b[0;32m      2\u001b[0m \u001b[0med_plot_women\u001b[0m\u001b[1;33m\u001b[0m\u001b[0m\n",
        "\u001b[1;31mNameError\u001b[0m: name 'education_plot_women' is not defined"
       ]
      }
     ],
     "prompt_number": 12
    },
    {
     "cell_type": "code",
     "collapsed": false,
     "input": [
      "import matplotlib.pyplot as plt\n",
      "fig = plt.figure()\n",
      "N=5\n",
      "width = 0.35\n",
      "ax = fig.add_subplot(111)\n",
      "ind = np.arange(N)   \n",
      "\n",
      "rects1= ax.bar(ind, ed_plot_men, width, color='black')\n",
      "rects2= ax.bar(ind+width, ed_plot_women, width, color='red')"
     ],
     "language": "python",
     "metadata": {},
     "outputs": []
    },
    {
     "cell_type": "code",
     "collapsed": false,
     "input": [
      "education_data[81:82]"
     ],
     "language": "python",
     "metadata": {},
     "outputs": []
    },
    {
     "cell_type": "code",
     "collapsed": false,
     "input": [
      "#Mali\n",
      "education_plot_men = education_data[81:82,(3,6,10,21,26)]\n",
      "education_plot_women = education_data[81:82,(4,7,9,20,25)]\n",
      "education_plot_men = education_plot_men.astype(double)\n",
      "education_plot_women = education_plot_women.astype(double)"
     ],
     "language": "python",
     "metadata": {},
     "outputs": []
    },
    {
     "cell_type": "code",
     "collapsed": false,
     "input": [
      "ed_plot_men = [education_plot_men[0,0], education_plot_men[0,1], education_plot_men[0,2],education_plot_men[0,3], education_plot_men[0,4]]\n",
      "ed_plot_men"
     ],
     "language": "python",
     "metadata": {},
     "outputs": []
    },
    {
     "cell_type": "code",
     "collapsed": false,
     "input": [
      "ed_plot_women = [education_plot_women[0,0], education_plot_women[0,1], education_plot_women[0,2],education_plot_women[0,3], education_plot_women[0,4]]\n",
      "ed_plot_women"
     ],
     "language": "python",
     "metadata": {},
     "outputs": []
    },
    {
     "cell_type": "code",
     "collapsed": false,
     "input": [
      "fig = plt.figure()\n",
      "N=5\n",
      "width = 0.35\n",
      "ax = fig.add_subplot(111)\n",
      "ind = np.arange(N)   \n",
      "\n",
      "rects1= ax.bar(ind, ed_plot_men, width, color='black')\n",
      "rects2= ax.bar(ind+width, ed_plot_women, width, color='red')"
     ],
     "language": "python",
     "metadata": {},
     "outputs": []
    },
    {
     "cell_type": "code",
     "collapsed": false,
     "input": [
      "education_data[35:36]"
     ],
     "language": "python",
     "metadata": {},
     "outputs": []
    },
    {
     "cell_type": "code",
     "collapsed": false,
     "input": [
      "#Croatia\n",
      "education_plot_men = education_data[35:36,(3,6,10,21,26)]\n",
      "education_plot_women = education_data[35:36,(4,7,9,20,25)]\n",
      "education_plot_men = education_plot_men.astype(double)\n",
      "education_plot_women = education_plot_women.astype(double)"
     ],
     "language": "python",
     "metadata": {},
     "outputs": []
    },
    {
     "cell_type": "code",
     "collapsed": false,
     "input": [
      "ed_plot_men = [education_plot_men[0,0], education_plot_men[0,1], education_plot_men[0,2],education_plot_men[0,3], education_plot_men[0,4]]\n",
      "ed_plot_men"
     ],
     "language": "python",
     "metadata": {},
     "outputs": []
    },
    {
     "cell_type": "code",
     "collapsed": false,
     "input": [
      "ed_plot_women = [education_plot_women[0,0], education_plot_women[0,1], education_plot_women[0,2],education_plot_women[0,3], education_plot_women[0,4]]\n",
      "ed_plot_women"
     ],
     "language": "python",
     "metadata": {},
     "outputs": []
    },
    {
     "cell_type": "code",
     "collapsed": false,
     "input": [
      "fig = plt.figure()\n",
      "N=5\n",
      "width = 0.35\n",
      "ax = fig.add_subplot(111)\n",
      "ind = np.arange(N)   \n",
      "\n",
      "rects1= ax.bar(ind, ed_plot_men, width, color='black')\n",
      "rects2= ax.bar(ind+width, ed_plot_women, width, color='red')"
     ],
     "language": "python",
     "metadata": {},
     "outputs": []
    },
    {
     "cell_type": "code",
     "collapsed": false,
     "input": [
      "#This analysis will be good when we add region labels. We can then easily\n",
      "#compare the plots of the different regions since the number will be small\n",
      "#enough. This cannot be done with countries since there are too many.\n",
      "#Also, from the merging some data was lost. This will have to be investigated\n",
      "#as we continue on."
     ],
     "language": "python",
     "metadata": {},
     "outputs": []
    },
    {
     "cell_type": "code",
     "collapsed": false,
     "input": [
      "education_region = np.loadtxt(\"C:/Users/Sarah Read/Desktop/Data_Mining/Gender_Data/education_data_labels.csv\", delimiter = ',', dtype=\"string\")"
     ],
     "language": "python",
     "metadata": {},
     "outputs": [],
     "prompt_number": 3
    },
    {
     "cell_type": "code",
     "collapsed": false,
     "input": [
      "education_region = education_region[1:68,2:21]"
     ],
     "language": "python",
     "metadata": {},
     "outputs": [],
     "prompt_number": 4
    },
    {
     "cell_type": "code",
     "collapsed": false,
     "input": [
      "education_region[1:2]"
     ],
     "language": "python",
     "metadata": {},
     "outputs": [
      {
       "metadata": {},
       "output_type": "pyout",
       "prompt_number": 5,
       "text": [
        "array([['55', '69', '40', '71', '79', '61', '67', '81', '44', '48', '51',\n",
        "        '37', '29', '38', '50', '5', '6', '45', '\"Asia\"']], \n",
        "      dtype='|S50')"
       ]
      }
     ],
     "prompt_number": 5
    },
    {
     "cell_type": "code",
     "collapsed": false,
     "input": [
      "#remove quotation marks from data\n",
      "for i in range(len(education_region)):\n",
      "   for j in range(size(education_region[0:1])):\n",
      "        education_region[i-1,j-1] = education_region[i-1,j-1].lstrip('\"').rstrip('\"')"
     ],
     "language": "python",
     "metadata": {},
     "outputs": [],
     "prompt_number": 6
    },
    {
     "cell_type": "code",
     "collapsed": false,
     "input": [
      "curRegion='Asia'\n",
      "allInCategory=0\n",
      "totalRegions = 0\n",
      "averageValueArr = [[0 for x in range(18)] for x in range(13)]\n",
      "allRegions = [None]*13"
     ],
     "language": "python",
     "metadata": {},
     "outputs": [],
     "prompt_number": 7
    },
    {
     "cell_type": "code",
     "collapsed": false,
     "input": [
      "for i in range(len(education_region)):\n",
      "    if(curRegion != education_region[i,18]):\n",
      "        allRegions[totalRegions] = curRegion\n",
      "        curRegion = education_region[i,18]\n",
      "        for y in range(0,18):\n",
      "            averageValueArr[totalRegions][y] = averageValueArr[totalRegions][y]/allInCategory\n",
      "        totalRegions = totalRegions+1\n",
      "        allInCategory = 0\n",
      "    for j in range(0,18):\n",
      "        averageValueArr[totalRegions][j] = averageValueArr[totalRegions][j] + education_region[i,j].astype(double)\n",
      "    allInCategory=allInCategory+1\n",
      "for y in range(0,18):\n",
      "    averageValueArr[totalRegions][y] = averageValueArr[totalRegions][y]/allInCategory\n",
      "allRegions[totalRegions] = curRegion"
     ],
     "language": "python",
     "metadata": {},
     "outputs": [],
     "prompt_number": 8
    },
    {
     "cell_type": "code",
     "collapsed": false,
     "input": [
      "import matplotlib.pyplot as plt\n",
      "fig = plt.figure()\n",
      "N=1\n",
      "width = 0.35\n",
      "ax = fig.add_subplot(111)\n",
      "ind = np.arange(N)   \n",
      "\n",
      "#Asia\n",
      "rects1= ax.bar(ind, averageValueArr[0][1], width, color='black')\n",
      "\n",
      "#Central America\n",
      "rects2= ax.bar(ind+width, averageValueArr[1][1], width, color='red')\n",
      "\n",
      "#Eastern Africa\n",
      "rects3= ax.bar(ind+2*width, averageValueArr[2][1], width, color='blue')\n",
      "\n",
      "#Europe\n",
      "rects4= ax.bar(ind+3*width, averageValueArr[3][1], width, color='purple')\n",
      "\n",
      "#Middle Africa\n",
      "rects5= ax.bar(ind+4*width, averageValueArr[4][1], width, color='orange')\n",
      "\n",
      "#Middle East\n",
      "rects6= ax.bar(ind+5*width, averageValueArr[5][1], width, color='green')\n",
      "\n",
      "#North America\n",
      "rects7= ax.bar(ind+6*width, averageValueArr[6][1], width, color='yellow')\n",
      "\n",
      "#Northern Africa\n",
      "rects8= ax.bar(ind+7*width, averageValueArr[7][1], width, color='gray')\n",
      "\n",
      "#Oceania\n",
      "rects9= ax.bar(ind+8*width, averageValueArr[8][1], width, color='black')\n",
      "\n",
      "#South America\n",
      "rects10= ax.bar(ind+9*width, averageValueArr[9][1], width, color='red')\n",
      "\n",
      "#Southern Africa\n",
      "rects11= ax.bar(ind+10*width, averageValueArr[10][1], width, color='blue')\n",
      "\n",
      "#The Caribbean\n",
      "rects12= ax.bar(ind+11*width, averageValueArr[11][1], width, color='purple')\n",
      "\n",
      "#Western Africa\n",
      "rects13= ax.bar(ind+12*width, averageValueArr[12][1], width, color='orange')\n",
      "\n",
      "#ax.set_xticklabels(allRegions)\n",
      "ax.set_title('Average Male Literacy Rate by Region')"
     ],
     "language": "python",
     "metadata": {},
     "outputs": [
      {
       "metadata": {},
       "output_type": "pyout",
       "prompt_number": 9,
       "text": [
        "<matplotlib.text.Text at 0xa2523c8>"
       ]
      },
      {
       "metadata": {},
       "output_type": "display_data",
       "png": "[encoded data removed]",
       "text": [
        "<matplotlib.figure.Figure at 0xa07b198>"
       ]
      }
     ],
     "prompt_number": 9
    },
    {
     "cell_type": "code",
     "collapsed": false,
     "input": [
      "fig = plt.figure()\n",
      "N=1\n",
      "width = 0.35\n",
      "ax = fig.add_subplot(111)\n",
      "ind = np.arange(N)   \n",
      "\n",
      "#Asia\n",
      "rects1= ax.bar(ind, averageValueArr[0][2], width, color='black')\n",
      "\n",
      "#Central America\n",
      "rects2= ax.bar(ind+width, averageValueArr[1][2], width, color='red')\n",
      "\n",
      "#Eastern Africa\n",
      "rects3= ax.bar(ind+2*width, averageValueArr[2][2], width, color='blue')\n",
      "\n",
      "#Europe\n",
      "rects4= ax.bar(ind+3*width, averageValueArr[3][2], width, color='purple')\n",
      "\n",
      "#Middle Africa\n",
      "rects5= ax.bar(ind+4*width, averageValueArr[4][2], width, color='orange')\n",
      "\n",
      "#Middle East\n",
      "rects6= ax.bar(ind+5*width, averageValueArr[5][2], width, color='green')\n",
      "\n",
      "#North America\n",
      "rects7= ax.bar(ind+6*width, averageValueArr[6][2], width, color='yellow')\n",
      "\n",
      "#Northern Africa\n",
      "rects8= ax.bar(ind+7*width, averageValueArr[7][2], width, color='gray')\n",
      "\n",
      "#Oceania\n",
      "rects9= ax.bar(ind+8*width, averageValueArr[8][2], width, color='black')\n",
      "\n",
      "#South America\n",
      "rects10= ax.bar(ind+9*width, averageValueArr[9][2], width, color='red')\n",
      "\n",
      "#Southern Africa\n",
      "rects11= ax.bar(ind+10*width, averageValueArr[10][2], width, color='blue')\n",
      "\n",
      "#The Caribbean\n",
      "rects12= ax.bar(ind+11*width, averageValueArr[11][2], width, color='purple')\n",
      "\n",
      "#Western Africa\n",
      "rects13= ax.bar(ind+12*width, averageValueArr[12][2], width, color='orange')\n",
      "\n",
      "#ax.set_xticklabels(allRegions)\n",
      "ax.set_title('Average Female Literacy Rate by Region')"
     ],
     "language": "python",
     "metadata": {},
     "outputs": [
      {
       "metadata": {},
       "output_type": "pyout",
       "prompt_number": 10,
       "text": [
        "<matplotlib.text.Text at 0xa123c88>"
       ]
      },
      {
       "metadata": {},
       "output_type": "display_data",
       "png": "[encoded data removed]",
       "text": [
        "<matplotlib.figure.Figure at 0xa4bcac8>"
       ]
      }
     ],
     "prompt_number": 10
    },
    {
     "cell_type": "code",
     "collapsed": false,
     "input": [
      "fig = plt.figure()\n",
      "N=1\n",
      "width = 0.35\n",
      "ax = fig.add_subplot(111)\n",
      "ind = np.arange(N)   \n",
      "\n",
      "#Asia\n",
      "rects1= ax.bar(ind, averageValueArr[0][6], width, color='black')\n",
      "\n",
      "#Central America\n",
      "rects2= ax.bar(ind+width, averageValueArr[1][6], width, color='red')\n",
      "\n",
      "#Eastern Africa\n",
      "rects3= ax.bar(ind+2*width, averageValueArr[2][6], width, color='blue')\n",
      "\n",
      "#Europe\n",
      "rects4= ax.bar(ind+3*width, averageValueArr[3][6], width, color='purple')\n",
      "\n",
      "#Middle Africa\n",
      "rects5= ax.bar(ind+4*width, averageValueArr[4][6], width, color='orange')\n",
      "\n",
      "#Middle East\n",
      "rects6= ax.bar(ind+5*width, averageValueArr[5][6], width, color='green')\n",
      "\n",
      "#North America\n",
      "rects7= ax.bar(ind+6*width, averageValueArr[6][6], width, color='yellow')\n",
      "\n",
      "#Northern Africa\n",
      "rects8= ax.bar(ind+7*width, averageValueArr[7][6], width, color='gray')\n",
      "\n",
      "#Oceania\n",
      "rects9= ax.bar(ind+8*width, averageValueArr[8][6], width, color='black')\n",
      "\n",
      "#South America\n",
      "rects10= ax.bar(ind+9*width, averageValueArr[9][6], width, color='red')\n",
      "\n",
      "#Southern Africa\n",
      "rects11= ax.bar(ind+10*width, averageValueArr[10][6], width, color='blue')\n",
      "\n",
      "#The Caribbean\n",
      "rects12= ax.bar(ind+11*width, averageValueArr[11][6], width, color='purple')\n",
      "\n",
      "#Western Africa\n",
      "rects13= ax.bar(ind+12*width, averageValueArr[12][6], width, color='orange')\n",
      "\n",
      "#ax.set_xticklabels(allRegions)\n",
      "ax.set_title('Average Percentage of Girls Enrolled in Primary School by Region')"
     ],
     "language": "python",
     "metadata": {},
     "outputs": [
      {
       "metadata": {},
       "output_type": "pyout",
       "prompt_number": 11,
       "text": [
        "<matplotlib.text.Text at 0xa5337b8>"
       ]
      },
      {
       "metadata": {},
       "output_type": "display_data",
       "png": "[encoded data removed]",
       "text": [
        "<matplotlib.figure.Figure at 0xa5d6780>"
       ]
      }
     ],
     "prompt_number": 11
    },
    {
     "cell_type": "code",
     "collapsed": false,
     "input": [
      "fig = plt.figure()\n",
      "N=1\n",
      "width = 0.35\n",
      "ax = fig.add_subplot(111)\n",
      "ind = np.arange(N)   \n",
      "\n",
      "#Asia\n",
      "rects1= ax.bar(ind, averageValueArr[0][7], width, color='black')\n",
      "\n",
      "#Central America\n",
      "rects2= ax.bar(ind+width, averageValueArr[1][7], width, color='red')\n",
      "\n",
      "#Eastern Africa\n",
      "rects3= ax.bar(ind+2*width, averageValueArr[2][7], width, color='blue')\n",
      "\n",
      "#Europe\n",
      "rects4= ax.bar(ind+3*width, averageValueArr[3][7], width, color='purple')\n",
      "\n",
      "#Middle Africa\n",
      "rects5= ax.bar(ind+4*width, averageValueArr[4][7], width, color='orange')\n",
      "\n",
      "#Middle East\n",
      "rects6= ax.bar(ind+5*width, averageValueArr[5][7], width, color='green')\n",
      "\n",
      "#North America\n",
      "rects7= ax.bar(ind+6*width, averageValueArr[6][7], width, color='yellow')\n",
      "\n",
      "#Northern Africa\n",
      "rects8= ax.bar(ind+7*width, averageValueArr[7][7], width, color='gray')\n",
      "\n",
      "#Oceania\n",
      "rects9= ax.bar(ind+8*width, averageValueArr[8][7], width, color='black')\n",
      "\n",
      "#South America\n",
      "rects10= ax.bar(ind+9*width, averageValueArr[9][7], width, color='red')\n",
      "\n",
      "#Southern Africa\n",
      "rects11= ax.bar(ind+10*width, averageValueArr[10][7], width, color='blue')\n",
      "\n",
      "#The Caribbean\n",
      "rects12= ax.bar(ind+11*width, averageValueArr[11][7], width, color='purple')\n",
      "\n",
      "#Western Africa\n",
      "rects13= ax.bar(ind+12*width, averageValueArr[12][7], width, color='orange')\n",
      "\n",
      "#ax.set_xticklabels(allRegions)\n",
      "ax.set_title('Average Percentage of Boys Enrolled in Primary School by Region')"
     ],
     "language": "python",
     "metadata": {},
     "outputs": [
      {
       "metadata": {},
       "output_type": "pyout",
       "prompt_number": 12,
       "text": [
        "<matplotlib.text.Text at 0xa9fbe10>"
       ]
      },
      {
       "metadata": {},
       "output_type": "display_data",
       "png": "[encoded data removed]",
       "text": [
        "<matplotlib.figure.Figure at 0xa528b38>"
       ]
      }
     ],
     "prompt_number": 12
    },
    {
     "cell_type": "code",
     "collapsed": false,
     "input": [
      "fig = plt.figure()\n",
      "N=1\n",
      "width = 0.35\n",
      "ax = fig.add_subplot(111)\n",
      "ind = np.arange(N)   \n",
      "\n",
      "#Asia\n",
      "rects1= ax.bar(ind, averageValueArr[0][12], width, color='black')\n",
      "\n",
      "#Central America\n",
      "rects2= ax.bar(ind+width, averageValueArr[1][12], width, color='red')\n",
      "\n",
      "#Eastern Africa\n",
      "rects3= ax.bar(ind+2*width, averageValueArr[2][12], width, color='blue')\n",
      "\n",
      "#Europe\n",
      "rects4= ax.bar(ind+3*width, averageValueArr[3][12], width, color='purple')\n",
      "\n",
      "#Middle Africa\n",
      "rects5= ax.bar(ind+4*width, averageValueArr[4][12], width, color='orange')\n",
      "\n",
      "#Middle East\n",
      "rects6= ax.bar(ind+5*width, averageValueArr[5][12], width, color='green')\n",
      "\n",
      "#North America\n",
      "rects7= ax.bar(ind+6*width, averageValueArr[6][12], width, color='yellow')\n",
      "\n",
      "#Northern Africa\n",
      "rects8= ax.bar(ind+7*width, averageValueArr[7][12], width, color='gray')\n",
      "\n",
      "#Oceania\n",
      "rects9= ax.bar(ind+8*width, averageValueArr[8][12], width, color='black')\n",
      "\n",
      "#South America\n",
      "rects10= ax.bar(ind+9*width, averageValueArr[9][12], width, color='red')\n",
      "\n",
      "#Southern Africa\n",
      "rects11= ax.bar(ind+10*width, averageValueArr[10][12], width, color='blue')\n",
      "\n",
      "#The Caribbean\n",
      "rects12= ax.bar(ind+11*width, averageValueArr[11][12], width, color='purple')\n",
      "\n",
      "#Western Africa\n",
      "rects13= ax.bar(ind+12*width, averageValueArr[12][12], width, color='orange')\n",
      "\n",
      "#ax.set_xticklabels(allRegions)\n",
      "ax.set_title('Average Percentage of Girls Enrolled in Secondary School by Region')"
     ],
     "language": "python",
     "metadata": {},
     "outputs": [
      {
       "metadata": {},
       "output_type": "pyout",
       "prompt_number": 13,
       "text": [
        "<matplotlib.text.Text at 0xb8fd470>"
       ]
      },
      {
       "metadata": {},
       "output_type": "display_data",
       "png": "[encoded data removed]",
       "text": [
        "<matplotlib.figure.Figure at 0xa9f27f0>"
       ]
      }
     ],
     "prompt_number": 13
    },
    {
     "cell_type": "code",
     "collapsed": false,
     "input": [
      "fig = plt.figure()\n",
      "N=1\n",
      "width = 0.35\n",
      "ax = fig.add_subplot(111)\n",
      "ind = np.arange(N)   \n",
      "\n",
      "#Asia\n",
      "rects1= ax.bar(ind, averageValueArr[0][13], width, color='black')\n",
      "\n",
      "#Central America\n",
      "rects2= ax.bar(ind+width, averageValueArr[1][13], width, color='red')\n",
      "\n",
      "#Eastern Africa\n",
      "rects3= ax.bar(ind+2*width, averageValueArr[2][13], width, color='blue')\n",
      "\n",
      "#Europe\n",
      "rects4= ax.bar(ind+3*width, averageValueArr[3][13], width, color='purple')\n",
      "\n",
      "#Middle Africa\n",
      "rects5= ax.bar(ind+4*width, averageValueArr[4][13], width, color='orange')\n",
      "\n",
      "#Middle East\n",
      "rects6= ax.bar(ind+5*width, averageValueArr[5][13], width, color='green')\n",
      "\n",
      "#North America\n",
      "rects7= ax.bar(ind+6*width, averageValueArr[6][13], width, color='yellow')\n",
      "\n",
      "#Northern Africa\n",
      "rects8= ax.bar(ind+7*width, averageValueArr[7][13], width, color='gray')\n",
      "\n",
      "#Oceania\n",
      "rects9= ax.bar(ind+8*width, averageValueArr[8][13], width, color='black')\n",
      "\n",
      "#South America\n",
      "rects10= ax.bar(ind+9*width, averageValueArr[9][13], width, color='red')\n",
      "\n",
      "#Southern Africa\n",
      "rects11= ax.bar(ind+10*width, averageValueArr[10][13], width, color='blue')\n",
      "\n",
      "#The Caribbean\n",
      "rects12= ax.bar(ind+11*width, averageValueArr[11][13], width, color='purple')\n",
      "\n",
      "#Western Africa\n",
      "rects13= ax.bar(ind+12*width, averageValueArr[12][13], width, color='orange')\n",
      "\n",
      "#ax.set_xticklabels(allRegions)\n",
      "ax.set_title('Average Percentage of Boys Enrolled in Secondary School by Region')"
     ],
     "language": "python",
     "metadata": {},
     "outputs": [
      {
       "metadata": {},
       "output_type": "pyout",
       "prompt_number": 14,
       "text": [
        "<matplotlib.text.Text at 0xba036a0>"
       ]
      },
      {
       "metadata": {},
       "output_type": "display_data",
       "png": "[encoded data removed]",
       "text": [
        "<matplotlib.figure.Figure at 0xb823780>"
       ]
      }
     ],
     "prompt_number": 14
    },
    {
     "cell_type": "code",
     "collapsed": false,
     "input": [
      "fig = plt.figure()\n",
      "N=1\n",
      "width = 0.35\n",
      "ax = fig.add_subplot(111)\n",
      "ind = np.arange(N)   \n",
      "\n",
      "#Asia\n",
      "rects1= ax.bar(ind, averageValueArr[0][15], width, color='black')\n",
      "\n",
      "#Central America\n",
      "rects2= ax.bar(ind+width, averageValueArr[1][15], width, color='red')\n",
      "\n",
      "#Eastern Africa\n",
      "rects3= ax.bar(ind+2*width, averageValueArr[2][15], width, color='blue')\n",
      "\n",
      "#Europe\n",
      "rects4= ax.bar(ind+3*width, averageValueArr[3][15], width, color='purple')\n",
      "\n",
      "#Middle Africa\n",
      "rects5= ax.bar(ind+4*width, averageValueArr[4][15], width, color='orange')\n",
      "\n",
      "#Middle East\n",
      "rects6= ax.bar(ind+5*width, averageValueArr[5][15], width, color='green')\n",
      "\n",
      "#North America\n",
      "rects7= ax.bar(ind+6*width, averageValueArr[6][15], width, color='yellow')\n",
      "\n",
      "#Northern Africa\n",
      "rects8= ax.bar(ind+7*width, averageValueArr[7][15], width, color='gray')\n",
      "\n",
      "#Oceania\n",
      "rects9= ax.bar(ind+8*width, averageValueArr[8][15], width, color='black')\n",
      "\n",
      "#South America\n",
      "rects10= ax.bar(ind+9*width, averageValueArr[9][15], width, color='red')\n",
      "\n",
      "#Southern Africa\n",
      "rects11= ax.bar(ind+10*width, averageValueArr[10][15], width, color='blue')\n",
      "\n",
      "#The Caribbean\n",
      "rects12= ax.bar(ind+11*width, averageValueArr[11][15], width, color='purple')\n",
      "\n",
      "#Western Africa\n",
      "rects13= ax.bar(ind+12*width, averageValueArr[12][15], width, color='orange')\n",
      "\n",
      "#ax.set_xticklabels(allRegions)\n",
      "ax.set_title('Average Percentage of Girls Enrolled in Secondary School by Region')"
     ],
     "language": "python",
     "metadata": {},
     "outputs": [
      {
       "metadata": {},
       "output_type": "pyout",
       "prompt_number": 15,
       "text": [
        "<matplotlib.text.Text at 0xbcba860>"
       ]
      },
      {
       "metadata": {},
       "output_type": "display_data",
       "png": "[encoded data removed]",
       "text": [
        "<matplotlib.figure.Figure at 0xb805ef0>"
       ]
      }
     ],
     "prompt_number": 15
    },
    {
     "cell_type": "code",
     "collapsed": false,
     "input": [
      "fig = plt.figure()\n",
      "N=1\n",
      "width = 0.35\n",
      "ax = fig.add_subplot(111)\n",
      "ind = np.arange(N)   \n",
      "\n",
      "#Asia\n",
      "rects1= ax.bar(ind, averageValueArr[0][16], width, color='black')\n",
      "\n",
      "#Central America\n",
      "rects2= ax.bar(ind+width, averageValueArr[1][16], width, color='red')\n",
      "\n",
      "#Eastern Africa\n",
      "rects3= ax.bar(ind+2*width, averageValueArr[2][16], width, color='blue')\n",
      "\n",
      "#Europe\n",
      "rects4= ax.bar(ind+3*width, averageValueArr[3][16], width, color='purple')\n",
      "\n",
      "#Middle Africa\n",
      "rects5= ax.bar(ind+4*width, averageValueArr[4][16], width, color='orange')\n",
      "\n",
      "#Middle East\n",
      "rects6= ax.bar(ind+5*width, averageValueArr[5][16], width, color='green')\n",
      "\n",
      "#North America\n",
      "rects7= ax.bar(ind+6*width, averageValueArr[6][16], width, color='yellow')\n",
      "\n",
      "#Northern Africa\n",
      "rects8= ax.bar(ind+7*width, averageValueArr[7][16], width, color='gray')\n",
      "\n",
      "#Oceania\n",
      "rects9= ax.bar(ind+8*width, averageValueArr[8][16], width, color='black')\n",
      "\n",
      "#South America\n",
      "rects10= ax.bar(ind+9*width, averageValueArr[9][16], width, color='red')\n",
      "\n",
      "#Southern Africa\n",
      "rects11= ax.bar(ind+10*width, averageValueArr[10][16], width, color='blue')\n",
      "\n",
      "#The Caribbean\n",
      "rects12= ax.bar(ind+11*width, averageValueArr[11][16], width, color='purple')\n",
      "\n",
      "#Western Africa\n",
      "rects13= ax.bar(ind+12*width, averageValueArr[12][16], width, color='orange')\n",
      "\n",
      "#ax.set_xticklabels(allRegions)\n",
      "ax.set_title('Average Percentage of Boys Enrolled in Secondary School by Region')"
     ],
     "language": "python",
     "metadata": {},
     "outputs": [
      {
       "metadata": {},
       "output_type": "pyout",
       "prompt_number": 16,
       "text": [
        "<matplotlib.text.Text at 0xbf455f8>"
       ]
      },
      {
       "metadata": {},
       "output_type": "display_data",
       "png": "[encoded data removed]",
       "text": [
        "<matplotlib.figure.Figure at 0xbca02b0>"
       ]
      }
     ],
     "prompt_number": 16
    },
    {
     "cell_type": "code",
     "collapsed": false,
     "input": [],
     "language": "python",
     "metadata": {},
     "outputs": [
      {
       "metadata": {},
       "output_type": "pyout",
       "prompt_number": 32,
       "text": [
        "0"
       ]
      }
     ],
     "prompt_number": 32
    },
    {
     "cell_type": "code",
     "collapsed": false,
     "input": [],
     "language": "python",
     "metadata": {},
     "outputs": []
    }
   ],
   "metadata": {}
  }
 ]
}